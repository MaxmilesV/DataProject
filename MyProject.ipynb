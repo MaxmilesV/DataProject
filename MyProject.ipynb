{
 "cells": [
  {
   "cell_type": "code",
   "execution_count": 338,
   "outputs": [],
   "source": [
    "import pandas as pd\n",
    "import numpy as np\n",
    "import plotly.graph_objects as go\n",
    "import plotly.express as px\n",
    "import streamlit as st\n",
    "import seaborn as sns"
   ],
   "metadata": {
    "collapsed": false
   }
  },
  {
   "cell_type": "code",
   "execution_count": 339,
   "id": "7e18e957",
   "metadata": {},
   "outputs": [],
   "source": [
    "import warnings\n",
    "warnings.simplefilter('ignore')"
   ]
  },
  {
   "cell_type": "code",
   "execution_count": 340,
   "id": "d6cd8b4f",
   "metadata": {},
   "outputs": [],
   "source": [
    "happy_df_original = pd.read_csv('2022.csv', sep=',')\n",
    "happy_df = happy_df_original.copy(deep=True)"
   ]
  },
  {
   "cell_type": "code",
   "execution_count": 341,
   "id": "9db17fd2",
   "metadata": {},
   "outputs": [
    {
     "data": {
      "text/plain": "DeltaGenerator(_root_container=0, _provided_cursor=None, _parent=None, _block_type=None, _form_data=None)"
     },
     "execution_count": 341,
     "metadata": {},
     "output_type": "execute_result"
    }
   ],
   "source": [
    "st.header(\"Introduction\")\n",
    "st.markdown(\"This project is dedicated to the analysis of a dataset containing information about the level of happiness in 146 countries.\"\n",
    "            \"The scores are based on answers to the main life evaluation question asked in the poll. This question, known as the Cantril ladder, asks respondents to think of a ladder with the best possible life for them being a 10 and the worst possible life being a 0 and to rate their own current lives on that scale.\"\n",
    "            \"This report has the following scales: GDP per capita, Social support, Life expectancy, Freedom, Generosity, Corruption\"\n",
    "            \"\"\n",
    "            \"You may also notice the term dystopia. Dystopia is a fictional state, each of the scales of which are equal to the minimum values in the world. There is no country less happy than Dystopia, which makes it possible to compare states not only with each other, but also with this absolute minimum.\"\n",
    "            \"But in this dataset, Dystopia is also used to demonstrate unexplained factors when calculating the level of happiness in a country. The Dystopia (1.83) + residual column is responsible for this\"\n",
    "            \"\"\n",
    "            \"It is also worth explaining the concepts of whisker-low and whisker-high. They are responsible for the bottom 25% of responses and the top 25% of responses, respectively.\"\n",
    "            \"\"\n",
    "            \"There is also an asterisk in the names of some states. This indicates that some of the collected data on the state may not be objective enough due to the small number of respondents. However, I will not pay attention to this in my work, because I do not have a better alternative in any case.\")"
   ]
  },
  {
   "cell_type": "code",
   "execution_count": 342,
   "id": "be738f8b",
   "metadata": {},
   "outputs": [
    {
     "data": {
      "text/plain": "DeltaGenerator(_root_container=0, _provided_cursor=None, _parent=None, _block_type=None, _form_data=None)"
     },
     "execution_count": 342,
     "metadata": {},
     "output_type": "execute_result"
    }
   ],
   "source": [
    "st.subheader(\"Data cleanup\")\n",
    "st.markdown(\"To begin with, I suggest reading the information about the contents of the dataset. The number of NaN, as well as its shape. For this I will use .info() method. I'm also going to output all the values with NaN, if there are any.\")"
   ]
  },
  {
   "cell_type": "code",
   "execution_count": 343,
   "id": "39594ba8",
   "metadata": {},
   "outputs": [
    {
     "name": "stdout",
     "output_type": "stream",
     "text": [
      "<class 'pandas.core.frame.DataFrame'>\n",
      "RangeIndex: 147 entries, 0 to 146\n",
      "Data columns (total 12 columns):\n",
      " #   Column                                      Non-Null Count  Dtype  \n",
      "---  ------                                      --------------  -----  \n",
      " 0   RANK                                        147 non-null    int64  \n",
      " 1   Country                                     147 non-null    object \n",
      " 2   Happiness score                             146 non-null    float64\n",
      " 3   Whisker-high                                146 non-null    float64\n",
      " 4   Whisker-low                                 146 non-null    float64\n",
      " 5   Dystopia (1.83) + residual                  146 non-null    float64\n",
      " 6   Explained by: GDP per capita                146 non-null    float64\n",
      " 7   Explained by: Social support                146 non-null    float64\n",
      " 8   Explained by: Healthy life expectancy       146 non-null    float64\n",
      " 9   Explained by: Freedom to make life choices  146 non-null    float64\n",
      " 10  Explained by: Generosity                    146 non-null    float64\n",
      " 11  Explained by: Perceptions of corruption     146 non-null    float64\n",
      "dtypes: float64(10), int64(1), object(1)\n",
      "memory usage: 13.9+ KB\n"
     ]
    }
   ],
   "source": [
    "happy_df.info()"
   ]
  },
  {
   "cell_type": "code",
   "execution_count": 344,
   "outputs": [
    {
     "data": {
      "text/plain": "     RANK Country  Happiness score  Whisker-high  Whisker-low  \\\n146   147      xx              NaN           NaN          NaN   \n\n     Dystopia (1.83) + residual  Explained by: GDP per capita  \\\n146                         NaN                           NaN   \n\n     Explained by: Social support  Explained by: Healthy life expectancy  \\\n146                           NaN                                    NaN   \n\n     Explained by: Freedom to make life choices  Explained by: Generosity  \\\n146                                         NaN                       NaN   \n\n     Explained by: Perceptions of corruption  \n146                                      NaN  ",
      "text/html": "<div>\n<style scoped>\n    .dataframe tbody tr th:only-of-type {\n        vertical-align: middle;\n    }\n\n    .dataframe tbody tr th {\n        vertical-align: top;\n    }\n\n    .dataframe thead th {\n        text-align: right;\n    }\n</style>\n<table border=\"1\" class=\"dataframe\">\n  <thead>\n    <tr style=\"text-align: right;\">\n      <th></th>\n      <th>RANK</th>\n      <th>Country</th>\n      <th>Happiness score</th>\n      <th>Whisker-high</th>\n      <th>Whisker-low</th>\n      <th>Dystopia (1.83) + residual</th>\n      <th>Explained by: GDP per capita</th>\n      <th>Explained by: Social support</th>\n      <th>Explained by: Healthy life expectancy</th>\n      <th>Explained by: Freedom to make life choices</th>\n      <th>Explained by: Generosity</th>\n      <th>Explained by: Perceptions of corruption</th>\n    </tr>\n  </thead>\n  <tbody>\n    <tr>\n      <th>146</th>\n      <td>147</td>\n      <td>xx</td>\n      <td>NaN</td>\n      <td>NaN</td>\n      <td>NaN</td>\n      <td>NaN</td>\n      <td>NaN</td>\n      <td>NaN</td>\n      <td>NaN</td>\n      <td>NaN</td>\n      <td>NaN</td>\n      <td>NaN</td>\n    </tr>\n  </tbody>\n</table>\n</div>"
     },
     "execution_count": 344,
     "metadata": {},
     "output_type": "execute_result"
    }
   ],
   "source": [
    "happy_df[happy_df.isna().any(axis=1)]"
   ],
   "metadata": {
    "collapsed": false
   }
  },
  {
   "cell_type": "code",
   "execution_count": 345,
   "outputs": [
    {
     "data": {
      "text/plain": "DeltaGenerator(_root_container=0, _provided_cursor=None, _parent=None, _block_type=None, _form_data=None)"
     },
     "execution_count": 345,
     "metadata": {},
     "output_type": "execute_result"
    }
   ],
   "source": [
    "st.markdown(\"As you can see, there is an empty string in the dataset. This line is not responsible for any state and is the closing element of the dataset. We don't need it, so I'll delete it.\"\n",
    "            \"But there is also good news, all the values have already been set in the types that suit me, so there is no need it data transformation.\"\n",
    "            \"It is also worth noting that the shape of the dataset corresponds to 12 columns and 146 rows\")"
   ],
   "metadata": {
    "collapsed": false
   }
  },
  {
   "cell_type": "code",
   "execution_count": 346,
   "outputs": [
    {
     "name": "stdout",
     "output_type": "stream",
     "text": [
      "<class 'pandas.core.frame.DataFrame'>\n",
      "RangeIndex: 146 entries, 0 to 145\n",
      "Data columns (total 12 columns):\n",
      " #   Column                                      Non-Null Count  Dtype  \n",
      "---  ------                                      --------------  -----  \n",
      " 0   RANK                                        146 non-null    int64  \n",
      " 1   Country                                     146 non-null    object \n",
      " 2   Happiness score                             146 non-null    float64\n",
      " 3   Whisker-high                                146 non-null    float64\n",
      " 4   Whisker-low                                 146 non-null    float64\n",
      " 5   Dystopia (1.83) + residual                  146 non-null    float64\n",
      " 6   Explained by: GDP per capita                146 non-null    float64\n",
      " 7   Explained by: Social support                146 non-null    float64\n",
      " 8   Explained by: Healthy life expectancy       146 non-null    float64\n",
      " 9   Explained by: Freedom to make life choices  146 non-null    float64\n",
      " 10  Explained by: Generosity                    146 non-null    float64\n",
      " 11  Explained by: Perceptions of corruption     146 non-null    float64\n",
      "dtypes: float64(10), int64(1), object(1)\n",
      "memory usage: 13.8+ KB\n"
     ]
    }
   ],
   "source": [
    "happy_df.dropna(inplace=True)\n",
    "happy_df.reset_index(inplace=True, drop=True)\n",
    "happy_df.info()"
   ],
   "metadata": {
    "collapsed": false
   }
  },
  {
   "cell_type": "code",
   "execution_count": 347,
   "outputs": [
    {
     "data": {
      "text/plain": "     RANK      Country  Happiness score  Whisker-high  Whisker-low  \\\n0       1      Finland            7.821         7.886        7.756   \n1       2      Denmark            7.636         7.710        7.563   \n2       3      Iceland            7.557         7.651        7.464   \n3       4  Switzerland            7.512         7.586        7.437   \n4       5  Netherlands            7.415         7.471        7.359   \n..    ...          ...              ...           ...          ...   \n141   142    Botswana*            3.471         3.667        3.275   \n142   143      Rwanda*            3.268         3.462        3.074   \n143   144     Zimbabwe            2.995         3.110        2.880   \n144   145      Lebanon            2.955         3.049        2.862   \n145   146  Afghanistan            2.404         2.469        2.339   \n\n     Dystopia (1.83) + residual  Explained by: GDP per capita  \\\n0                         2.518                         1.892   \n1                         2.226                         1.953   \n2                         2.320                         1.936   \n3                         2.153                         2.026   \n4                         2.137                         1.945   \n..                          ...                           ...   \n141                       0.187                         1.503   \n142                       0.536                         0.785   \n143                       0.548                         0.947   \n144                       0.216                         1.392   \n145                       1.263                         0.758   \n\n     Explained by: Social support  Explained by: Healthy life expectancy  \\\n0                           1.258                                  0.775   \n1                           1.243                                  0.777   \n2                           1.320                                  0.803   \n3                           1.226                                  0.822   \n4                           1.206                                  0.787   \n..                            ...                                    ...   \n141                         0.815                                  0.280   \n142                         0.133                                  0.462   \n143                         0.690                                  0.270   \n144                         0.498                                  0.631   \n145                         0.000                                  0.289   \n\n     Explained by: Freedom to make life choices  Explained by: Generosity  \\\n0                                         0.736                     0.109   \n1                                         0.719                     0.188   \n2                                         0.718                     0.270   \n3                                         0.677                     0.147   \n4                                         0.651                     0.271   \n..                                          ...                       ...   \n141                                       0.571                     0.012   \n142                                       0.621                     0.187   \n143                                       0.329                     0.106   \n144                                       0.103                     0.082   \n145                                       0.000                     0.089   \n\n     Explained by: Perceptions of corruption  \n0                                      0.534  \n1                                      0.532  \n2                                      0.191  \n3                                      0.461  \n4                                      0.419  \n..                                       ...  \n141                                    0.102  \n142                                    0.544  \n143                                    0.105  \n144                                    0.034  \n145                                    0.005  \n\n[146 rows x 12 columns]",
      "text/html": "<div>\n<style scoped>\n    .dataframe tbody tr th:only-of-type {\n        vertical-align: middle;\n    }\n\n    .dataframe tbody tr th {\n        vertical-align: top;\n    }\n\n    .dataframe thead th {\n        text-align: right;\n    }\n</style>\n<table border=\"1\" class=\"dataframe\">\n  <thead>\n    <tr style=\"text-align: right;\">\n      <th></th>\n      <th>RANK</th>\n      <th>Country</th>\n      <th>Happiness score</th>\n      <th>Whisker-high</th>\n      <th>Whisker-low</th>\n      <th>Dystopia (1.83) + residual</th>\n      <th>Explained by: GDP per capita</th>\n      <th>Explained by: Social support</th>\n      <th>Explained by: Healthy life expectancy</th>\n      <th>Explained by: Freedom to make life choices</th>\n      <th>Explained by: Generosity</th>\n      <th>Explained by: Perceptions of corruption</th>\n    </tr>\n  </thead>\n  <tbody>\n    <tr>\n      <th>0</th>\n      <td>1</td>\n      <td>Finland</td>\n      <td>7.821</td>\n      <td>7.886</td>\n      <td>7.756</td>\n      <td>2.518</td>\n      <td>1.892</td>\n      <td>1.258</td>\n      <td>0.775</td>\n      <td>0.736</td>\n      <td>0.109</td>\n      <td>0.534</td>\n    </tr>\n    <tr>\n      <th>1</th>\n      <td>2</td>\n      <td>Denmark</td>\n      <td>7.636</td>\n      <td>7.710</td>\n      <td>7.563</td>\n      <td>2.226</td>\n      <td>1.953</td>\n      <td>1.243</td>\n      <td>0.777</td>\n      <td>0.719</td>\n      <td>0.188</td>\n      <td>0.532</td>\n    </tr>\n    <tr>\n      <th>2</th>\n      <td>3</td>\n      <td>Iceland</td>\n      <td>7.557</td>\n      <td>7.651</td>\n      <td>7.464</td>\n      <td>2.320</td>\n      <td>1.936</td>\n      <td>1.320</td>\n      <td>0.803</td>\n      <td>0.718</td>\n      <td>0.270</td>\n      <td>0.191</td>\n    </tr>\n    <tr>\n      <th>3</th>\n      <td>4</td>\n      <td>Switzerland</td>\n      <td>7.512</td>\n      <td>7.586</td>\n      <td>7.437</td>\n      <td>2.153</td>\n      <td>2.026</td>\n      <td>1.226</td>\n      <td>0.822</td>\n      <td>0.677</td>\n      <td>0.147</td>\n      <td>0.461</td>\n    </tr>\n    <tr>\n      <th>4</th>\n      <td>5</td>\n      <td>Netherlands</td>\n      <td>7.415</td>\n      <td>7.471</td>\n      <td>7.359</td>\n      <td>2.137</td>\n      <td>1.945</td>\n      <td>1.206</td>\n      <td>0.787</td>\n      <td>0.651</td>\n      <td>0.271</td>\n      <td>0.419</td>\n    </tr>\n    <tr>\n      <th>...</th>\n      <td>...</td>\n      <td>...</td>\n      <td>...</td>\n      <td>...</td>\n      <td>...</td>\n      <td>...</td>\n      <td>...</td>\n      <td>...</td>\n      <td>...</td>\n      <td>...</td>\n      <td>...</td>\n      <td>...</td>\n    </tr>\n    <tr>\n      <th>141</th>\n      <td>142</td>\n      <td>Botswana*</td>\n      <td>3.471</td>\n      <td>3.667</td>\n      <td>3.275</td>\n      <td>0.187</td>\n      <td>1.503</td>\n      <td>0.815</td>\n      <td>0.280</td>\n      <td>0.571</td>\n      <td>0.012</td>\n      <td>0.102</td>\n    </tr>\n    <tr>\n      <th>142</th>\n      <td>143</td>\n      <td>Rwanda*</td>\n      <td>3.268</td>\n      <td>3.462</td>\n      <td>3.074</td>\n      <td>0.536</td>\n      <td>0.785</td>\n      <td>0.133</td>\n      <td>0.462</td>\n      <td>0.621</td>\n      <td>0.187</td>\n      <td>0.544</td>\n    </tr>\n    <tr>\n      <th>143</th>\n      <td>144</td>\n      <td>Zimbabwe</td>\n      <td>2.995</td>\n      <td>3.110</td>\n      <td>2.880</td>\n      <td>0.548</td>\n      <td>0.947</td>\n      <td>0.690</td>\n      <td>0.270</td>\n      <td>0.329</td>\n      <td>0.106</td>\n      <td>0.105</td>\n    </tr>\n    <tr>\n      <th>144</th>\n      <td>145</td>\n      <td>Lebanon</td>\n      <td>2.955</td>\n      <td>3.049</td>\n      <td>2.862</td>\n      <td>0.216</td>\n      <td>1.392</td>\n      <td>0.498</td>\n      <td>0.631</td>\n      <td>0.103</td>\n      <td>0.082</td>\n      <td>0.034</td>\n    </tr>\n    <tr>\n      <th>145</th>\n      <td>146</td>\n      <td>Afghanistan</td>\n      <td>2.404</td>\n      <td>2.469</td>\n      <td>2.339</td>\n      <td>1.263</td>\n      <td>0.758</td>\n      <td>0.000</td>\n      <td>0.289</td>\n      <td>0.000</td>\n      <td>0.089</td>\n      <td>0.005</td>\n    </tr>\n  </tbody>\n</table>\n<p>146 rows × 12 columns</p>\n</div>"
     },
     "execution_count": 347,
     "metadata": {},
     "output_type": "execute_result"
    }
   ],
   "source": [
    "happy_df"
   ],
   "metadata": {
    "collapsed": false
   }
  },
  {
   "cell_type": "code",
   "execution_count": 348,
   "outputs": [
    {
     "data": {
      "text/plain": "DeltaGenerator(_root_container=0, _provided_cursor=None, _parent=None, _block_type=None, _form_data=None)"
     },
     "execution_count": 348,
     "metadata": {},
     "output_type": "execute_result"
    }
   ],
   "source": [
    "st.markdown('It looks like we are done at this stage and can move on to the next one...')"
   ],
   "metadata": {
    "collapsed": false
   }
  },
  {
   "cell_type": "code",
   "execution_count": 349,
   "outputs": [
    {
     "data": {
      "text/plain": "DeltaGenerator(_root_container=0, _provided_cursor=None, _parent=None, _block_type=None, _form_data=None)"
     },
     "execution_count": 349,
     "metadata": {},
     "output_type": "execute_result"
    }
   ],
   "source": [
    "st.subheader(\"Statistics and description\")\n",
    "st.markdown('In this section, I suggest looking at the top 5 happiest and most unhappy countries. And I also offer some statistical data on the most interesting criteria in my opinion.')"
   ],
   "metadata": {
    "collapsed": false
   }
  },
  {
   "cell_type": "code",
   "execution_count": 350,
   "outputs": [
    {
     "data": {
      "text/plain": "             RANK  Happiness score  Whisker-high  Whisker-low  \\\ncount  146.000000       146.000000    146.000000   146.000000   \nmean    73.500000         5.553575      5.673589     5.433568   \nstd     42.290661         1.086843      1.065621     1.109380   \nmin      1.000000         2.404000      2.469000     2.339000   \n25%     37.250000         4.888750      5.006250     4.754750   \n50%     73.500000         5.568500      5.680000     5.453000   \n75%    109.750000         6.305000      6.448750     6.190000   \nmax    146.000000         7.821000      7.886000     7.756000   \n\n       Dystopia (1.83) + residual  Explained by: GDP per capita  \\\ncount                  146.000000                    146.000000   \nmean                     1.831808                      1.410445   \nstd                      0.534994                      0.421663   \nmin                      0.187000                      0.000000   \n25%                      1.555250                      1.095500   \n50%                      1.894500                      1.445500   \n75%                      2.153000                      1.784750   \nmax                      2.844000                      2.209000   \n\n       Explained by: Social support  Explained by: Healthy life expectancy  \\\ncount                    146.000000                             146.000000   \nmean                       0.905863                               0.586171   \nstd                        0.280122                               0.176336   \nmin                        0.000000                               0.000000   \n25%                        0.732000                               0.463250   \n50%                        0.957500                               0.621500   \n75%                        1.114250                               0.719750   \nmax                        1.320000                               0.942000   \n\n       Explained by: Freedom to make life choices  Explained by: Generosity  \\\ncount                                  146.000000                146.000000   \nmean                                     0.517226                  0.147377   \nstd                                      0.145859                  0.082799   \nmin                                      0.000000                  0.000000   \n25%                                      0.440500                  0.089000   \n50%                                      0.543500                  0.132500   \n75%                                      0.626000                  0.197750   \nmax                                      0.740000                  0.468000   \n\n       Explained by: Perceptions of corruption  \ncount                               146.000000  \nmean                                  0.154781  \nstd                                   0.127514  \nmin                                   0.000000  \n25%                                   0.068250  \n50%                                   0.119500  \n75%                                   0.198500  \nmax                                   0.587000  ",
      "text/html": "<div>\n<style scoped>\n    .dataframe tbody tr th:only-of-type {\n        vertical-align: middle;\n    }\n\n    .dataframe tbody tr th {\n        vertical-align: top;\n    }\n\n    .dataframe thead th {\n        text-align: right;\n    }\n</style>\n<table border=\"1\" class=\"dataframe\">\n  <thead>\n    <tr style=\"text-align: right;\">\n      <th></th>\n      <th>RANK</th>\n      <th>Happiness score</th>\n      <th>Whisker-high</th>\n      <th>Whisker-low</th>\n      <th>Dystopia (1.83) + residual</th>\n      <th>Explained by: GDP per capita</th>\n      <th>Explained by: Social support</th>\n      <th>Explained by: Healthy life expectancy</th>\n      <th>Explained by: Freedom to make life choices</th>\n      <th>Explained by: Generosity</th>\n      <th>Explained by: Perceptions of corruption</th>\n    </tr>\n  </thead>\n  <tbody>\n    <tr>\n      <th>count</th>\n      <td>146.000000</td>\n      <td>146.000000</td>\n      <td>146.000000</td>\n      <td>146.000000</td>\n      <td>146.000000</td>\n      <td>146.000000</td>\n      <td>146.000000</td>\n      <td>146.000000</td>\n      <td>146.000000</td>\n      <td>146.000000</td>\n      <td>146.000000</td>\n    </tr>\n    <tr>\n      <th>mean</th>\n      <td>73.500000</td>\n      <td>5.553575</td>\n      <td>5.673589</td>\n      <td>5.433568</td>\n      <td>1.831808</td>\n      <td>1.410445</td>\n      <td>0.905863</td>\n      <td>0.586171</td>\n      <td>0.517226</td>\n      <td>0.147377</td>\n      <td>0.154781</td>\n    </tr>\n    <tr>\n      <th>std</th>\n      <td>42.290661</td>\n      <td>1.086843</td>\n      <td>1.065621</td>\n      <td>1.109380</td>\n      <td>0.534994</td>\n      <td>0.421663</td>\n      <td>0.280122</td>\n      <td>0.176336</td>\n      <td>0.145859</td>\n      <td>0.082799</td>\n      <td>0.127514</td>\n    </tr>\n    <tr>\n      <th>min</th>\n      <td>1.000000</td>\n      <td>2.404000</td>\n      <td>2.469000</td>\n      <td>2.339000</td>\n      <td>0.187000</td>\n      <td>0.000000</td>\n      <td>0.000000</td>\n      <td>0.000000</td>\n      <td>0.000000</td>\n      <td>0.000000</td>\n      <td>0.000000</td>\n    </tr>\n    <tr>\n      <th>25%</th>\n      <td>37.250000</td>\n      <td>4.888750</td>\n      <td>5.006250</td>\n      <td>4.754750</td>\n      <td>1.555250</td>\n      <td>1.095500</td>\n      <td>0.732000</td>\n      <td>0.463250</td>\n      <td>0.440500</td>\n      <td>0.089000</td>\n      <td>0.068250</td>\n    </tr>\n    <tr>\n      <th>50%</th>\n      <td>73.500000</td>\n      <td>5.568500</td>\n      <td>5.680000</td>\n      <td>5.453000</td>\n      <td>1.894500</td>\n      <td>1.445500</td>\n      <td>0.957500</td>\n      <td>0.621500</td>\n      <td>0.543500</td>\n      <td>0.132500</td>\n      <td>0.119500</td>\n    </tr>\n    <tr>\n      <th>75%</th>\n      <td>109.750000</td>\n      <td>6.305000</td>\n      <td>6.448750</td>\n      <td>6.190000</td>\n      <td>2.153000</td>\n      <td>1.784750</td>\n      <td>1.114250</td>\n      <td>0.719750</td>\n      <td>0.626000</td>\n      <td>0.197750</td>\n      <td>0.198500</td>\n    </tr>\n    <tr>\n      <th>max</th>\n      <td>146.000000</td>\n      <td>7.821000</td>\n      <td>7.886000</td>\n      <td>7.756000</td>\n      <td>2.844000</td>\n      <td>2.209000</td>\n      <td>1.320000</td>\n      <td>0.942000</td>\n      <td>0.740000</td>\n      <td>0.468000</td>\n      <td>0.587000</td>\n    </tr>\n  </tbody>\n</table>\n</div>"
     },
     "execution_count": 350,
     "metadata": {},
     "output_type": "execute_result"
    }
   ],
   "source": [
    "happy_df.describe()"
   ],
   "metadata": {
    "collapsed": false
   }
  },
  {
   "cell_type": "code",
   "execution_count": 351,
   "outputs": [
    {
     "data": {
      "text/plain": "   RANK      Country  Happiness score  Whisker-high  Whisker-low  \\\n0     1      Finland            7.821         7.886        7.756   \n1     2      Denmark            7.636         7.710        7.563   \n2     3      Iceland            7.557         7.651        7.464   \n3     4  Switzerland            7.512         7.586        7.437   \n4     5  Netherlands            7.415         7.471        7.359   \n\n   Dystopia (1.83) + residual  Explained by: GDP per capita  \\\n0                       2.518                         1.892   \n1                       2.226                         1.953   \n2                       2.320                         1.936   \n3                       2.153                         2.026   \n4                       2.137                         1.945   \n\n   Explained by: Social support  Explained by: Healthy life expectancy  \\\n0                         1.258                                  0.775   \n1                         1.243                                  0.777   \n2                         1.320                                  0.803   \n3                         1.226                                  0.822   \n4                         1.206                                  0.787   \n\n   Explained by: Freedom to make life choices  Explained by: Generosity  \\\n0                                       0.736                     0.109   \n1                                       0.719                     0.188   \n2                                       0.718                     0.270   \n3                                       0.677                     0.147   \n4                                       0.651                     0.271   \n\n   Explained by: Perceptions of corruption  \n0                                    0.534  \n1                                    0.532  \n2                                    0.191  \n3                                    0.461  \n4                                    0.419  ",
      "text/html": "<div>\n<style scoped>\n    .dataframe tbody tr th:only-of-type {\n        vertical-align: middle;\n    }\n\n    .dataframe tbody tr th {\n        vertical-align: top;\n    }\n\n    .dataframe thead th {\n        text-align: right;\n    }\n</style>\n<table border=\"1\" class=\"dataframe\">\n  <thead>\n    <tr style=\"text-align: right;\">\n      <th></th>\n      <th>RANK</th>\n      <th>Country</th>\n      <th>Happiness score</th>\n      <th>Whisker-high</th>\n      <th>Whisker-low</th>\n      <th>Dystopia (1.83) + residual</th>\n      <th>Explained by: GDP per capita</th>\n      <th>Explained by: Social support</th>\n      <th>Explained by: Healthy life expectancy</th>\n      <th>Explained by: Freedom to make life choices</th>\n      <th>Explained by: Generosity</th>\n      <th>Explained by: Perceptions of corruption</th>\n    </tr>\n  </thead>\n  <tbody>\n    <tr>\n      <th>0</th>\n      <td>1</td>\n      <td>Finland</td>\n      <td>7.821</td>\n      <td>7.886</td>\n      <td>7.756</td>\n      <td>2.518</td>\n      <td>1.892</td>\n      <td>1.258</td>\n      <td>0.775</td>\n      <td>0.736</td>\n      <td>0.109</td>\n      <td>0.534</td>\n    </tr>\n    <tr>\n      <th>1</th>\n      <td>2</td>\n      <td>Denmark</td>\n      <td>7.636</td>\n      <td>7.710</td>\n      <td>7.563</td>\n      <td>2.226</td>\n      <td>1.953</td>\n      <td>1.243</td>\n      <td>0.777</td>\n      <td>0.719</td>\n      <td>0.188</td>\n      <td>0.532</td>\n    </tr>\n    <tr>\n      <th>2</th>\n      <td>3</td>\n      <td>Iceland</td>\n      <td>7.557</td>\n      <td>7.651</td>\n      <td>7.464</td>\n      <td>2.320</td>\n      <td>1.936</td>\n      <td>1.320</td>\n      <td>0.803</td>\n      <td>0.718</td>\n      <td>0.270</td>\n      <td>0.191</td>\n    </tr>\n    <tr>\n      <th>3</th>\n      <td>4</td>\n      <td>Switzerland</td>\n      <td>7.512</td>\n      <td>7.586</td>\n      <td>7.437</td>\n      <td>2.153</td>\n      <td>2.026</td>\n      <td>1.226</td>\n      <td>0.822</td>\n      <td>0.677</td>\n      <td>0.147</td>\n      <td>0.461</td>\n    </tr>\n    <tr>\n      <th>4</th>\n      <td>5</td>\n      <td>Netherlands</td>\n      <td>7.415</td>\n      <td>7.471</td>\n      <td>7.359</td>\n      <td>2.137</td>\n      <td>1.945</td>\n      <td>1.206</td>\n      <td>0.787</td>\n      <td>0.651</td>\n      <td>0.271</td>\n      <td>0.419</td>\n    </tr>\n  </tbody>\n</table>\n</div>"
     },
     "execution_count": 351,
     "metadata": {},
     "output_type": "execute_result"
    }
   ],
   "source": [
    "happy_df.head()"
   ],
   "metadata": {
    "collapsed": false
   }
  },
  {
   "cell_type": "code",
   "execution_count": 352,
   "outputs": [
    {
     "data": {
      "text/plain": "     RANK      Country  Happiness score  Whisker-high  Whisker-low  \\\n141   142    Botswana*            3.471         3.667        3.275   \n142   143      Rwanda*            3.268         3.462        3.074   \n143   144     Zimbabwe            2.995         3.110        2.880   \n144   145      Lebanon            2.955         3.049        2.862   \n145   146  Afghanistan            2.404         2.469        2.339   \n\n     Dystopia (1.83) + residual  Explained by: GDP per capita  \\\n141                       0.187                         1.503   \n142                       0.536                         0.785   \n143                       0.548                         0.947   \n144                       0.216                         1.392   \n145                       1.263                         0.758   \n\n     Explained by: Social support  Explained by: Healthy life expectancy  \\\n141                         0.815                                  0.280   \n142                         0.133                                  0.462   \n143                         0.690                                  0.270   \n144                         0.498                                  0.631   \n145                         0.000                                  0.289   \n\n     Explained by: Freedom to make life choices  Explained by: Generosity  \\\n141                                       0.571                     0.012   \n142                                       0.621                     0.187   \n143                                       0.329                     0.106   \n144                                       0.103                     0.082   \n145                                       0.000                     0.089   \n\n     Explained by: Perceptions of corruption  \n141                                    0.102  \n142                                    0.544  \n143                                    0.105  \n144                                    0.034  \n145                                    0.005  ",
      "text/html": "<div>\n<style scoped>\n    .dataframe tbody tr th:only-of-type {\n        vertical-align: middle;\n    }\n\n    .dataframe tbody tr th {\n        vertical-align: top;\n    }\n\n    .dataframe thead th {\n        text-align: right;\n    }\n</style>\n<table border=\"1\" class=\"dataframe\">\n  <thead>\n    <tr style=\"text-align: right;\">\n      <th></th>\n      <th>RANK</th>\n      <th>Country</th>\n      <th>Happiness score</th>\n      <th>Whisker-high</th>\n      <th>Whisker-low</th>\n      <th>Dystopia (1.83) + residual</th>\n      <th>Explained by: GDP per capita</th>\n      <th>Explained by: Social support</th>\n      <th>Explained by: Healthy life expectancy</th>\n      <th>Explained by: Freedom to make life choices</th>\n      <th>Explained by: Generosity</th>\n      <th>Explained by: Perceptions of corruption</th>\n    </tr>\n  </thead>\n  <tbody>\n    <tr>\n      <th>141</th>\n      <td>142</td>\n      <td>Botswana*</td>\n      <td>3.471</td>\n      <td>3.667</td>\n      <td>3.275</td>\n      <td>0.187</td>\n      <td>1.503</td>\n      <td>0.815</td>\n      <td>0.280</td>\n      <td>0.571</td>\n      <td>0.012</td>\n      <td>0.102</td>\n    </tr>\n    <tr>\n      <th>142</th>\n      <td>143</td>\n      <td>Rwanda*</td>\n      <td>3.268</td>\n      <td>3.462</td>\n      <td>3.074</td>\n      <td>0.536</td>\n      <td>0.785</td>\n      <td>0.133</td>\n      <td>0.462</td>\n      <td>0.621</td>\n      <td>0.187</td>\n      <td>0.544</td>\n    </tr>\n    <tr>\n      <th>143</th>\n      <td>144</td>\n      <td>Zimbabwe</td>\n      <td>2.995</td>\n      <td>3.110</td>\n      <td>2.880</td>\n      <td>0.548</td>\n      <td>0.947</td>\n      <td>0.690</td>\n      <td>0.270</td>\n      <td>0.329</td>\n      <td>0.106</td>\n      <td>0.105</td>\n    </tr>\n    <tr>\n      <th>144</th>\n      <td>145</td>\n      <td>Lebanon</td>\n      <td>2.955</td>\n      <td>3.049</td>\n      <td>2.862</td>\n      <td>0.216</td>\n      <td>1.392</td>\n      <td>0.498</td>\n      <td>0.631</td>\n      <td>0.103</td>\n      <td>0.082</td>\n      <td>0.034</td>\n    </tr>\n    <tr>\n      <th>145</th>\n      <td>146</td>\n      <td>Afghanistan</td>\n      <td>2.404</td>\n      <td>2.469</td>\n      <td>2.339</td>\n      <td>1.263</td>\n      <td>0.758</td>\n      <td>0.000</td>\n      <td>0.289</td>\n      <td>0.000</td>\n      <td>0.089</td>\n      <td>0.005</td>\n    </tr>\n  </tbody>\n</table>\n</div>"
     },
     "execution_count": 352,
     "metadata": {},
     "output_type": "execute_result"
    }
   ],
   "source": [
    "happy_df.tail()"
   ],
   "metadata": {
    "collapsed": false
   }
  },
  {
   "cell_type": "code",
   "execution_count": 353,
   "outputs": [
    {
     "data": {
      "text/plain": "DeltaGenerator(_root_container=0, _provided_cursor=None, _parent=None, _block_type=None, _form_data=None)"
     },
     "execution_count": 353,
     "metadata": {},
     "output_type": "execute_result"
    }
   ],
   "source": [
    "st.markdown('At this stage, you can already see interesting statistics. The five happiest countries in the world are the developed countries of Europe with a relatively small population, but a strong economy.'\n",
    "            'At the same time, the most unhappy countries in the world are 4 countries from Africa and 1 country from Asia in a state of civil war (at the time of the survey). These States have not the smallest population and natural resources, but their population is unhappy.')"
   ],
   "metadata": {
    "collapsed": false
   }
  },
  {
   "cell_type": "code",
   "execution_count": 354,
   "outputs": [
    {
     "name": "stdout",
     "output_type": "stream",
     "text": [
      "Mean happiness:  5.55\n",
      "Median happiness:  5.57\n",
      "Happiness std:  1.09\n"
     ]
    }
   ],
   "source": [
    "print(\"Mean happiness: \", round(happy_df['Happiness score'].mean(), 2))\n",
    "print(\"Median happiness: \", round(happy_df['Happiness score'].median(), 2))\n",
    "print(\"Happiness std: \", round(happy_df['Happiness score'].std(), 2))"
   ],
   "metadata": {
    "collapsed": false
   }
  },
  {
   "cell_type": "code",
   "execution_count": 355,
   "outputs": [
    {
     "data": {
      "text/plain": "DeltaGenerator(_root_container=0, _provided_cursor=None, _parent=None, _block_type=None, _form_data=None)"
     },
     "execution_count": 355,
     "metadata": {},
     "output_type": "execute_result"
    }
   ],
   "source": [
    "st.markdown('At this point, you can also draw interesting conclusions. The median and average values are almost equal, which indicates a very uniform \"distribution\" of happiness.'\n",
    "            \"At the same time, both the mean and median values give a rating higher than 5/10, which suggests that in general, the world's population (by state, not in number) estimates its level of happiness at a slightly higher than the \\\"normal\\\" level\"\n",
    "            \"It is also worth noting that std is presented at a fairly high level and is a rating unit.\")"
   ],
   "metadata": {
    "collapsed": false
   }
  },
  {
   "cell_type": "code",
   "execution_count": 356,
   "outputs": [
    {
     "name": "stdout",
     "output_type": "stream",
     "text": [
      "Mean GDP impact:  1.41\n",
      "Median GDP impact:  1.45\n",
      "GDP impact std:  0.42 \n",
      "\n",
      "Maximum GDP impact:  2.209\n"
     ]
    }
   ],
   "source": [
    "print(\"Mean GDP impact: \", round(happy_df['Explained by: GDP per capita'].mean(), 2))\n",
    "print(\"Median GDP impact: \", round(happy_df['Explained by: GDP per capita'].median(), 2))\n",
    "print(\"GDP impact std: \", round(happy_df['Explained by: GDP per capita'].std(), 2), \"\\n\")\n",
    "print(\"Maximum GDP impact: \", happy_df['Explained by: GDP per capita'].max())"
   ],
   "metadata": {
    "collapsed": false
   }
  },
  {
   "cell_type": "code",
   "execution_count": 357,
   "outputs": [
    {
     "data": {
      "text/plain": "DeltaGenerator(_root_container=0, _provided_cursor=None, _parent=None, _block_type=None, _form_data=None)"
     },
     "execution_count": 357,
     "metadata": {},
     "output_type": "execute_result"
    }
   ],
   "source": [
    "st.markdown('In this case, it was also necessary to deduce the maximum level of the impact of GDP in order to be able to estimate the mean and median values.'\n",
    "            'In general, the same situation is repeated here as in the case of the final level of happiness, which suggests that this trend is characteristic of all criteria.')"
   ],
   "metadata": {
    "collapsed": false
   }
  },
  {
   "cell_type": "code",
   "execution_count": 358,
   "outputs": [
    {
     "name": "stdout",
     "output_type": "stream",
     "text": [
      "Mean freedom impact:  0.52\n",
      "Median freedom impact:  0.54\n",
      "Freedom impact std:  0.15 \n",
      "\n",
      "Maximum freedom impact:  0.74\n"
     ]
    }
   ],
   "source": [
    "print(\"Mean freedom impact: \", round(happy_df['Explained by: Freedom to make life choices'].mean(), 2))\n",
    "print(\"Median freedom impact: \", round(happy_df['Explained by: Freedom to make life choices'].median(), 2))\n",
    "print(\"Freedom impact std: \", round(happy_df['Explained by: Freedom to make life choices'].std(), 2), \"\\n\")\n",
    "print(\"Maximum freedom impact: \", happy_df['Explained by: Freedom to make life choices'].max())"
   ],
   "metadata": {
    "collapsed": false
   }
  },
  {
   "cell_type": "code",
   "execution_count": 359,
   "outputs": [
    {
     "data": {
      "text/plain": "DeltaGenerator(_root_container=0, _provided_cursor=None, _parent=None, _block_type=None, _form_data=None)"
     },
     "execution_count": 359,
     "metadata": {},
     "output_type": "execute_result"
    }
   ],
   "source": [
    "st.markdown('Yes, checking another criterion confirms the hypothesis that all criteria have very close mean and median values. At the same time, in general, each criterion is evaluated by the population above \"normal\".'\n",
    "            'At this point, I propose to finish this stage and move on to a more complete analysis of the dataset.')"
   ],
   "metadata": {
    "collapsed": false
   }
  },
  {
   "cell_type": "code",
   "execution_count": 360,
   "outputs": [
    {
     "data": {
      "text/plain": "DeltaGenerator(_root_container=0, _provided_cursor=None, _parent=None, _block_type=None, _form_data=None)"
     },
     "execution_count": 360,
     "metadata": {},
     "output_type": "execute_result"
    }
   ],
   "source": [
    "st.subheader('Some insights')\n",
    "st.markdown('At this stage, I\\'m going to visualize the distribution of happiness by country and test two hypotheses.'\n",
    "            'The first hypothesis is that as the overall level of happiness increases, the level of corruption in the state will gradually decrease.'\n",
    "            'The second hypothesis is that as social support and life expectancy increase, the average level of GDP per capita will increase at the same time.')"
   ],
   "metadata": {
    "collapsed": false
   }
  },
  {
   "cell_type": "code",
   "execution_count": 361,
   "outputs": [
    {
     "data": {
      "application/vnd.plotly.v1+json": {
       "data": [
        {
         "alignmentgroup": "True",
         "hovertemplate": "Country=%{x}<br>Happiness score=%{y}<extra></extra>",
         "legendgroup": "",
         "marker": {
          "color": "#000001",
          "pattern": {
           "shape": ""
          }
         },
         "name": "",
         "offsetgroup": "",
         "orientation": "v",
         "showlegend": false,
         "textposition": "auto",
         "x": [
          "Finland",
          "Denmark",
          "Iceland",
          "Switzerland",
          "Netherlands",
          "Luxembourg*",
          "Sweden",
          "Norway",
          "Israel",
          "New Zealand",
          "Austria",
          "Australia",
          "Ireland",
          "Germany",
          "Canada",
          "United States",
          "United Kingdom",
          "Czechia",
          "Belgium",
          "France",
          "Bahrain",
          "Slovenia",
          "Costa Rica",
          "United Arab Emirates",
          "Saudi Arabia",
          "Taiwan Province of China",
          "Singapore",
          "Romania",
          "Spain",
          "Uruguay",
          "Italy",
          "Kosovo",
          "Malta",
          "Lithuania",
          "Slovakia",
          "Estonia",
          "Panama",
          "Brazil",
          "Guatemala*",
          "Kazakhstan",
          "Cyprus",
          "Latvia",
          "Serbia",
          "Chile",
          "Nicaragua",
          "Mexico",
          "Croatia",
          "Poland",
          "El Salvador",
          "Kuwait*",
          "Hungary",
          "Mauritius",
          "Uzbekistan",
          "Japan",
          "Honduras",
          "Portugal",
          "Argentina",
          "Greece",
          "South Korea",
          "Philippines",
          "Thailand",
          "Moldova",
          "Jamaica",
          "Kyrgyzstan",
          "Belarus*",
          "Colombia",
          "Bosnia and Herzegovina",
          "Mongolia",
          "Dominican Republic",
          "Malaysia",
          "Bolivia",
          "China",
          "Paraguay",
          "Peru",
          "Montenegro",
          "Ecuador",
          "Vietnam",
          "Turkmenistan*",
          "North Cyprus*",
          "Russia",
          "Hong Kong S.A.R. of China",
          "Armenia",
          "Tajikistan",
          "Nepal",
          "Bulgaria",
          "Libya*",
          "Indonesia",
          "Ivory Coast",
          "North Macedonia",
          "Albania",
          "South Africa",
          "Azerbaijan*",
          "Gambia*",
          "Bangladesh",
          "Laos",
          "Algeria",
          "Liberia*",
          "Ukraine",
          "Congo",
          "Morocco",
          "Mozambique",
          "Cameroon",
          "Senegal",
          "Niger*",
          "Georgia",
          "Gabon",
          "Iraq",
          "Venezuela",
          "Guinea",
          "Iran",
          "Ghana",
          "Turkey",
          "Burkina Faso",
          "Cambodia",
          "Benin",
          "Comoros*",
          "Uganda",
          "Nigeria",
          "Kenya",
          "Tunisia",
          "Pakistan",
          "Palestinian Territories*",
          "Mali",
          "Namibia",
          "Eswatini, Kingdom of*",
          "Myanmar",
          "Sri Lanka",
          "Madagascar*",
          "Egypt",
          "Chad*",
          "Ethiopia",
          "Yemen*",
          "Mauritania*",
          "Jordan",
          "Togo",
          "India",
          "Zambia",
          "Malawi",
          "Tanzania",
          "Sierra Leone",
          "Lesotho*",
          "Botswana*",
          "Rwanda*",
          "Zimbabwe",
          "Lebanon",
          "Afghanistan"
         ],
         "xaxis": "x",
         "y": [
          7.821,
          7.636,
          7.557,
          7.512,
          7.415,
          7.404,
          7.384,
          7.365,
          7.364,
          7.2,
          7.163,
          7.162,
          7.041,
          7.034,
          7.025,
          6.977,
          6.943,
          6.92,
          6.805,
          6.687,
          6.647,
          6.63,
          6.582,
          6.576,
          6.523,
          6.512,
          6.48,
          6.477,
          6.476,
          6.474,
          6.467,
          6.455,
          6.447,
          6.446,
          6.391,
          6.341,
          6.309,
          6.293,
          6.262,
          6.234,
          6.221,
          6.18,
          6.178,
          6.172,
          6.165,
          6.128,
          6.125,
          6.123,
          6.12,
          6.106,
          6.086,
          6.071,
          6.063,
          6.039,
          6.022,
          6.016,
          5.967,
          5.948,
          5.935,
          5.904,
          5.891,
          5.857,
          5.85,
          5.828,
          5.821,
          5.781,
          5.768,
          5.761,
          5.737,
          5.711,
          5.6,
          5.585,
          5.578,
          5.559,
          5.547,
          5.533,
          5.485,
          5.474,
          5.467,
          5.459,
          5.425,
          5.399,
          5.377,
          5.377,
          5.371,
          5.33,
          5.24,
          5.235,
          5.199,
          5.199,
          5.194,
          5.173,
          5.164,
          5.155,
          5.14,
          5.122,
          5.122,
          5.084,
          5.075,
          5.06,
          5.048,
          5.048,
          5.046,
          5.003,
          4.973,
          4.958,
          4.941,
          4.925,
          4.891,
          4.888,
          4.872,
          4.744,
          4.67,
          4.64,
          4.623,
          4.609,
          4.603,
          4.552,
          4.543,
          4.516,
          4.516,
          4.483,
          4.479,
          4.459,
          4.396,
          4.394,
          4.362,
          4.339,
          4.288,
          4.251,
          4.241,
          4.197,
          4.153,
          4.152,
          4.112,
          3.777,
          3.76,
          3.75,
          3.702,
          3.574,
          3.512,
          3.471,
          3.268,
          2.995,
          2.955,
          2.404
         ],
         "yaxis": "y",
         "type": "bar"
        }
       ],
       "layout": {
        "template": {
         "data": {
          "candlestick": [
           {
            "decreasing": {
             "line": {
              "color": "#000033"
             }
            },
            "increasing": {
             "line": {
              "color": "#000032"
             }
            },
            "type": "candlestick"
           }
          ],
          "contourcarpet": [
           {
            "colorscale": [
             [
              0.0,
              "#000011"
             ],
             [
              0.1111111111111111,
              "#000012"
             ],
             [
              0.2222222222222222,
              "#000013"
             ],
             [
              0.3333333333333333,
              "#000014"
             ],
             [
              0.4444444444444444,
              "#000015"
             ],
             [
              0.5555555555555556,
              "#000016"
             ],
             [
              0.6666666666666666,
              "#000017"
             ],
             [
              0.7777777777777778,
              "#000018"
             ],
             [
              0.8888888888888888,
              "#000019"
             ],
             [
              1.0,
              "#000020"
             ]
            ],
            "type": "contourcarpet"
           }
          ],
          "contour": [
           {
            "colorscale": [
             [
              0.0,
              "#000011"
             ],
             [
              0.1111111111111111,
              "#000012"
             ],
             [
              0.2222222222222222,
              "#000013"
             ],
             [
              0.3333333333333333,
              "#000014"
             ],
             [
              0.4444444444444444,
              "#000015"
             ],
             [
              0.5555555555555556,
              "#000016"
             ],
             [
              0.6666666666666666,
              "#000017"
             ],
             [
              0.7777777777777778,
              "#000018"
             ],
             [
              0.8888888888888888,
              "#000019"
             ],
             [
              1.0,
              "#000020"
             ]
            ],
            "type": "contour"
           }
          ],
          "heatmap": [
           {
            "colorscale": [
             [
              0.0,
              "#000011"
             ],
             [
              0.1111111111111111,
              "#000012"
             ],
             [
              0.2222222222222222,
              "#000013"
             ],
             [
              0.3333333333333333,
              "#000014"
             ],
             [
              0.4444444444444444,
              "#000015"
             ],
             [
              0.5555555555555556,
              "#000016"
             ],
             [
              0.6666666666666666,
              "#000017"
             ],
             [
              0.7777777777777778,
              "#000018"
             ],
             [
              0.8888888888888888,
              "#000019"
             ],
             [
              1.0,
              "#000020"
             ]
            ],
            "type": "heatmap"
           }
          ],
          "histogram2d": [
           {
            "colorscale": [
             [
              0.0,
              "#000011"
             ],
             [
              0.1111111111111111,
              "#000012"
             ],
             [
              0.2222222222222222,
              "#000013"
             ],
             [
              0.3333333333333333,
              "#000014"
             ],
             [
              0.4444444444444444,
              "#000015"
             ],
             [
              0.5555555555555556,
              "#000016"
             ],
             [
              0.6666666666666666,
              "#000017"
             ],
             [
              0.7777777777777778,
              "#000018"
             ],
             [
              0.8888888888888888,
              "#000019"
             ],
             [
              1.0,
              "#000020"
             ]
            ],
            "type": "histogram2d"
           }
          ],
          "icicle": [
           {
            "textfont": {
             "color": "white"
            },
            "type": "icicle"
           }
          ],
          "sankey": [
           {
            "textfont": {
             "color": "#000036"
            },
            "type": "sankey"
           }
          ],
          "scatter": [
           {
            "marker": {
             "line": {
              "width": 0
             }
            },
            "type": "scatter"
           }
          ],
          "table": [
           {
            "cells": {
             "fill": {
              "color": "#000038"
             },
             "font": {
              "color": "#000037"
             },
             "line": {
              "color": "#000039"
             }
            },
            "header": {
             "fill": {
              "color": "#000040"
             },
             "font": {
              "color": "#000036"
             },
             "line": {
              "color": "#000039"
             }
            },
            "type": "table"
           }
          ],
          "waterfall": [
           {
            "connector": {
             "line": {
              "color": "#000036",
              "width": 2
             }
            },
            "decreasing": {
             "marker": {
              "color": "#000033"
             }
            },
            "increasing": {
             "marker": {
              "color": "#000032"
             }
            },
            "totals": {
             "marker": {
              "color": "#000034"
             }
            },
            "type": "waterfall"
           }
          ]
         },
         "layout": {
          "coloraxis": {
           "colorscale": [
            [
             0.0,
             "#000011"
            ],
            [
             0.1111111111111111,
             "#000012"
            ],
            [
             0.2222222222222222,
             "#000013"
            ],
            [
             0.3333333333333333,
             "#000014"
            ],
            [
             0.4444444444444444,
             "#000015"
            ],
            [
             0.5555555555555556,
             "#000016"
            ],
            [
             0.6666666666666666,
             "#000017"
            ],
            [
             0.7777777777777778,
             "#000018"
            ],
            [
             0.8888888888888888,
             "#000019"
            ],
            [
             1.0,
             "#000020"
            ]
           ]
          },
          "colorscale": {
           "diverging": [
            [
             0.0,
             "#000021"
            ],
            [
             0.1,
             "#000022"
            ],
            [
             0.2,
             "#000023"
            ],
            [
             0.3,
             "#000024"
            ],
            [
             0.4,
             "#000025"
            ],
            [
             0.5,
             "#000026"
            ],
            [
             0.6,
             "#000027"
            ],
            [
             0.7,
             "#000028"
            ],
            [
             0.8,
             "#000029"
            ],
            [
             0.9,
             "#000030"
            ],
            [
             1.0,
             "#000031"
            ]
           ],
           "sequential": [
            [
             0.0,
             "#000011"
            ],
            [
             0.1111111111111111,
             "#000012"
            ],
            [
             0.2222222222222222,
             "#000013"
            ],
            [
             0.3333333333333333,
             "#000014"
            ],
            [
             0.4444444444444444,
             "#000015"
            ],
            [
             0.5555555555555556,
             "#000016"
            ],
            [
             0.6666666666666666,
             "#000017"
            ],
            [
             0.7777777777777778,
             "#000018"
            ],
            [
             0.8888888888888888,
             "#000019"
            ],
            [
             1.0,
             "#000020"
            ]
           ],
           "sequentialminus": [
            [
             0.0,
             "#000011"
            ],
            [
             0.1111111111111111,
             "#000012"
            ],
            [
             0.2222222222222222,
             "#000013"
            ],
            [
             0.3333333333333333,
             "#000014"
            ],
            [
             0.4444444444444444,
             "#000015"
            ],
            [
             0.5555555555555556,
             "#000016"
            ],
            [
             0.6666666666666666,
             "#000017"
            ],
            [
             0.7777777777777778,
             "#000018"
            ],
            [
             0.8888888888888888,
             "#000019"
            ],
            [
             1.0,
             "#000020"
            ]
           ]
          },
          "colorway": [
           "#000001",
           "#000002",
           "#000003",
           "#000004",
           "#000005",
           "#000006",
           "#000007",
           "#000008",
           "#000009",
           "#000010"
          ]
         }
        },
        "xaxis": {
         "anchor": "y",
         "domain": [
          0.0,
          1.0
         ],
         "title": {
          "text": "Country"
         }
        },
        "yaxis": {
         "anchor": "x",
         "domain": [
          0.0,
          1.0
         ],
         "title": {
          "text": "Happiness score"
         }
        },
        "legend": {
         "tracegroupgap": 0
        },
        "margin": {
         "t": 60
        },
        "barmode": "relative"
       },
       "config": {
        "plotlyServerURL": "https://plot.ly"
       }
      },
      "text/html": "<div>                            <div id=\"40d6b481-6bed-4361-8b51-15f67f8e3375\" class=\"plotly-graph-div\" style=\"height:525px; width:100%;\"></div>            <script type=\"text/javascript\">                require([\"plotly\"], function(Plotly) {                    window.PLOTLYENV=window.PLOTLYENV || {};                                    if (document.getElementById(\"40d6b481-6bed-4361-8b51-15f67f8e3375\")) {                    Plotly.newPlot(                        \"40d6b481-6bed-4361-8b51-15f67f8e3375\",                        [{\"alignmentgroup\":\"True\",\"hovertemplate\":\"Country=%{x}<br>Happiness score=%{y}<extra></extra>\",\"legendgroup\":\"\",\"marker\":{\"color\":\"#000001\",\"pattern\":{\"shape\":\"\"}},\"name\":\"\",\"offsetgroup\":\"\",\"orientation\":\"v\",\"showlegend\":false,\"textposition\":\"auto\",\"x\":[\"Finland\",\"Denmark\",\"Iceland\",\"Switzerland\",\"Netherlands\",\"Luxembourg*\",\"Sweden\",\"Norway\",\"Israel\",\"New Zealand\",\"Austria\",\"Australia\",\"Ireland\",\"Germany\",\"Canada\",\"United States\",\"United Kingdom\",\"Czechia\",\"Belgium\",\"France\",\"Bahrain\",\"Slovenia\",\"Costa Rica\",\"United Arab Emirates\",\"Saudi Arabia\",\"Taiwan Province of China\",\"Singapore\",\"Romania\",\"Spain\",\"Uruguay\",\"Italy\",\"Kosovo\",\"Malta\",\"Lithuania\",\"Slovakia\",\"Estonia\",\"Panama\",\"Brazil\",\"Guatemala*\",\"Kazakhstan\",\"Cyprus\",\"Latvia\",\"Serbia\",\"Chile\",\"Nicaragua\",\"Mexico\",\"Croatia\",\"Poland\",\"El Salvador\",\"Kuwait*\",\"Hungary\",\"Mauritius\",\"Uzbekistan\",\"Japan\",\"Honduras\",\"Portugal\",\"Argentina\",\"Greece\",\"South Korea\",\"Philippines\",\"Thailand\",\"Moldova\",\"Jamaica\",\"Kyrgyzstan\",\"Belarus*\",\"Colombia\",\"Bosnia and Herzegovina\",\"Mongolia\",\"Dominican Republic\",\"Malaysia\",\"Bolivia\",\"China\",\"Paraguay\",\"Peru\",\"Montenegro\",\"Ecuador\",\"Vietnam\",\"Turkmenistan*\",\"North Cyprus*\",\"Russia\",\"Hong Kong S.A.R. of China\",\"Armenia\",\"Tajikistan\",\"Nepal\",\"Bulgaria\",\"Libya*\",\"Indonesia\",\"Ivory Coast\",\"North Macedonia\",\"Albania\",\"South Africa\",\"Azerbaijan*\",\"Gambia*\",\"Bangladesh\",\"Laos\",\"Algeria\",\"Liberia*\",\"Ukraine\",\"Congo\",\"Morocco\",\"Mozambique\",\"Cameroon\",\"Senegal\",\"Niger*\",\"Georgia\",\"Gabon\",\"Iraq\",\"Venezuela\",\"Guinea\",\"Iran\",\"Ghana\",\"Turkey\",\"Burkina Faso\",\"Cambodia\",\"Benin\",\"Comoros*\",\"Uganda\",\"Nigeria\",\"Kenya\",\"Tunisia\",\"Pakistan\",\"Palestinian Territories*\",\"Mali\",\"Namibia\",\"Eswatini, Kingdom of*\",\"Myanmar\",\"Sri Lanka\",\"Madagascar*\",\"Egypt\",\"Chad*\",\"Ethiopia\",\"Yemen*\",\"Mauritania*\",\"Jordan\",\"Togo\",\"India\",\"Zambia\",\"Malawi\",\"Tanzania\",\"Sierra Leone\",\"Lesotho*\",\"Botswana*\",\"Rwanda*\",\"Zimbabwe\",\"Lebanon\",\"Afghanistan\"],\"xaxis\":\"x\",\"y\":[7.821,7.636,7.557,7.512,7.415,7.404,7.384,7.365,7.364,7.2,7.163,7.162,7.041,7.034,7.025,6.977,6.943,6.92,6.805,6.687,6.647,6.63,6.582,6.576,6.523,6.512,6.48,6.477,6.476,6.474,6.467,6.455,6.447,6.446,6.391,6.341,6.309,6.293,6.262,6.234,6.221,6.18,6.178,6.172,6.165,6.128,6.125,6.123,6.12,6.106,6.086,6.071,6.063,6.039,6.022,6.016,5.967,5.948,5.935,5.904,5.891,5.857,5.85,5.828,5.821,5.781,5.768,5.761,5.737,5.711,5.6,5.585,5.578,5.559,5.547,5.533,5.485,5.474,5.467,5.459,5.425,5.399,5.377,5.377,5.371,5.33,5.24,5.235,5.199,5.199,5.194,5.173,5.164,5.155,5.14,5.122,5.122,5.084,5.075,5.06,5.048,5.048,5.046,5.003,4.973,4.958,4.941,4.925,4.891,4.888,4.872,4.744,4.67,4.64,4.623,4.609,4.603,4.552,4.543,4.516,4.516,4.483,4.479,4.459,4.396,4.394,4.362,4.339,4.288,4.251,4.241,4.197,4.153,4.152,4.112,3.777,3.76,3.75,3.702,3.574,3.512,3.471,3.268,2.995,2.955,2.404],\"yaxis\":\"y\",\"type\":\"bar\"}],                        {\"template\":{\"data\":{\"candlestick\":[{\"decreasing\":{\"line\":{\"color\":\"#000033\"}},\"increasing\":{\"line\":{\"color\":\"#000032\"}},\"type\":\"candlestick\"}],\"contourcarpet\":[{\"colorscale\":[[0.0,\"#000011\"],[0.1111111111111111,\"#000012\"],[0.2222222222222222,\"#000013\"],[0.3333333333333333,\"#000014\"],[0.4444444444444444,\"#000015\"],[0.5555555555555556,\"#000016\"],[0.6666666666666666,\"#000017\"],[0.7777777777777778,\"#000018\"],[0.8888888888888888,\"#000019\"],[1.0,\"#000020\"]],\"type\":\"contourcarpet\"}],\"contour\":[{\"colorscale\":[[0.0,\"#000011\"],[0.1111111111111111,\"#000012\"],[0.2222222222222222,\"#000013\"],[0.3333333333333333,\"#000014\"],[0.4444444444444444,\"#000015\"],[0.5555555555555556,\"#000016\"],[0.6666666666666666,\"#000017\"],[0.7777777777777778,\"#000018\"],[0.8888888888888888,\"#000019\"],[1.0,\"#000020\"]],\"type\":\"contour\"}],\"heatmap\":[{\"colorscale\":[[0.0,\"#000011\"],[0.1111111111111111,\"#000012\"],[0.2222222222222222,\"#000013\"],[0.3333333333333333,\"#000014\"],[0.4444444444444444,\"#000015\"],[0.5555555555555556,\"#000016\"],[0.6666666666666666,\"#000017\"],[0.7777777777777778,\"#000018\"],[0.8888888888888888,\"#000019\"],[1.0,\"#000020\"]],\"type\":\"heatmap\"}],\"histogram2d\":[{\"colorscale\":[[0.0,\"#000011\"],[0.1111111111111111,\"#000012\"],[0.2222222222222222,\"#000013\"],[0.3333333333333333,\"#000014\"],[0.4444444444444444,\"#000015\"],[0.5555555555555556,\"#000016\"],[0.6666666666666666,\"#000017\"],[0.7777777777777778,\"#000018\"],[0.8888888888888888,\"#000019\"],[1.0,\"#000020\"]],\"type\":\"histogram2d\"}],\"icicle\":[{\"textfont\":{\"color\":\"white\"},\"type\":\"icicle\"}],\"sankey\":[{\"textfont\":{\"color\":\"#000036\"},\"type\":\"sankey\"}],\"scatter\":[{\"marker\":{\"line\":{\"width\":0}},\"type\":\"scatter\"}],\"table\":[{\"cells\":{\"fill\":{\"color\":\"#000038\"},\"font\":{\"color\":\"#000037\"},\"line\":{\"color\":\"#000039\"}},\"header\":{\"fill\":{\"color\":\"#000040\"},\"font\":{\"color\":\"#000036\"},\"line\":{\"color\":\"#000039\"}},\"type\":\"table\"}],\"waterfall\":[{\"connector\":{\"line\":{\"color\":\"#000036\",\"width\":2}},\"decreasing\":{\"marker\":{\"color\":\"#000033\"}},\"increasing\":{\"marker\":{\"color\":\"#000032\"}},\"totals\":{\"marker\":{\"color\":\"#000034\"}},\"type\":\"waterfall\"}]},\"layout\":{\"coloraxis\":{\"colorscale\":[[0.0,\"#000011\"],[0.1111111111111111,\"#000012\"],[0.2222222222222222,\"#000013\"],[0.3333333333333333,\"#000014\"],[0.4444444444444444,\"#000015\"],[0.5555555555555556,\"#000016\"],[0.6666666666666666,\"#000017\"],[0.7777777777777778,\"#000018\"],[0.8888888888888888,\"#000019\"],[1.0,\"#000020\"]]},\"colorscale\":{\"diverging\":[[0.0,\"#000021\"],[0.1,\"#000022\"],[0.2,\"#000023\"],[0.3,\"#000024\"],[0.4,\"#000025\"],[0.5,\"#000026\"],[0.6,\"#000027\"],[0.7,\"#000028\"],[0.8,\"#000029\"],[0.9,\"#000030\"],[1.0,\"#000031\"]],\"sequential\":[[0.0,\"#000011\"],[0.1111111111111111,\"#000012\"],[0.2222222222222222,\"#000013\"],[0.3333333333333333,\"#000014\"],[0.4444444444444444,\"#000015\"],[0.5555555555555556,\"#000016\"],[0.6666666666666666,\"#000017\"],[0.7777777777777778,\"#000018\"],[0.8888888888888888,\"#000019\"],[1.0,\"#000020\"]],\"sequentialminus\":[[0.0,\"#000011\"],[0.1111111111111111,\"#000012\"],[0.2222222222222222,\"#000013\"],[0.3333333333333333,\"#000014\"],[0.4444444444444444,\"#000015\"],[0.5555555555555556,\"#000016\"],[0.6666666666666666,\"#000017\"],[0.7777777777777778,\"#000018\"],[0.8888888888888888,\"#000019\"],[1.0,\"#000020\"]]},\"colorway\":[\"#000001\",\"#000002\",\"#000003\",\"#000004\",\"#000005\",\"#000006\",\"#000007\",\"#000008\",\"#000009\",\"#000010\"]}},\"xaxis\":{\"anchor\":\"y\",\"domain\":[0.0,1.0],\"title\":{\"text\":\"Country\"}},\"yaxis\":{\"anchor\":\"x\",\"domain\":[0.0,1.0],\"title\":{\"text\":\"Happiness score\"}},\"legend\":{\"tracegroupgap\":0},\"margin\":{\"t\":60},\"barmode\":\"relative\"},                        {\"responsive\": true}                    ).then(function(){\n                            \nvar gd = document.getElementById('40d6b481-6bed-4361-8b51-15f67f8e3375');\nvar x = new MutationObserver(function (mutations, observer) {{\n        var display = window.getComputedStyle(gd).display;\n        if (!display || display === 'none') {{\n            console.log([gd, 'removed!']);\n            Plotly.purge(gd);\n            observer.disconnect();\n        }}\n}});\n\n// Listen for the removal of the full notebook cells\nvar notebookContainer = gd.closest('#notebook-container');\nif (notebookContainer) {{\n    x.observe(notebookContainer, {childList: true});\n}}\n\n// Listen for the clearing of the current output cell\nvar outputEl = gd.closest('.output');\nif (outputEl) {{\n    x.observe(outputEl, {childList: true});\n}}\n\n                        })                };                });            </script>        </div>"
     },
     "metadata": {},
     "output_type": "display_data"
    }
   ],
   "source": [
    "fig = px.bar(happy_df, x='Country', y='Happiness score')\n",
    "fig.show()"
   ],
   "metadata": {
    "collapsed": false
   }
  },
  {
   "cell_type": "code",
   "execution_count": 362,
   "outputs": [
    {
     "data": {
      "text/plain": "DeltaGenerator(_root_container=0, _provided_cursor=None, _parent=None, _block_type=None, _form_data=None)"
     },
     "execution_count": 362,
     "metadata": {},
     "output_type": "execute_result"
    }
   ],
   "source": [
    "st.markdown('And here is a chart with a demonstration of all levels of general happiness in all countries. Looking at this graph, you can visually notice that the previous idea that the distribution is generally uniform, but at the same time more inclined to an estimate above \"normal\" is once again confirmed.')"
   ],
   "metadata": {
    "collapsed": false
   }
  },
  {
   "cell_type": "code",
   "execution_count": 363,
   "outputs": [
    {
     "data": {
      "application/vnd.plotly.v1+json": {
       "data": [
        {
         "hovertemplate": "Happiness score=%{x}<br>Explained by: Perceptions of corruption=%{y}<extra></extra>",
         "legendgroup": "",
         "line": {
          "color": "#000001",
          "dash": "solid"
         },
         "marker": {
          "symbol": "circle"
         },
         "mode": "lines",
         "name": "",
         "orientation": "v",
         "showlegend": false,
         "x": [
          7.821,
          7.636,
          7.557,
          7.512,
          7.415,
          7.404,
          7.384,
          7.365,
          7.364,
          7.2,
          7.163,
          7.162,
          7.041,
          7.034,
          7.025,
          6.977,
          6.943,
          6.92,
          6.805,
          6.687,
          6.647,
          6.63,
          6.582,
          6.576,
          6.523,
          6.512,
          6.48,
          6.477,
          6.476,
          6.474,
          6.467,
          6.455,
          6.447,
          6.446,
          6.391,
          6.341,
          6.309,
          6.293,
          6.262,
          6.234,
          6.221,
          6.18,
          6.178,
          6.172,
          6.165,
          6.128,
          6.125,
          6.123,
          6.12,
          6.106,
          6.086,
          6.071,
          6.063,
          6.039,
          6.022,
          6.016,
          5.967,
          5.948,
          5.935,
          5.904,
          5.891,
          5.857,
          5.85,
          5.828,
          5.821,
          5.781,
          5.768,
          5.761,
          5.737,
          5.711,
          5.6,
          5.585,
          5.578,
          5.559,
          5.547,
          5.533,
          5.485,
          5.474,
          5.467,
          5.459,
          5.425,
          5.399,
          5.377,
          5.377,
          5.371,
          5.33,
          5.24,
          5.235,
          5.199,
          5.199,
          5.194,
          5.173,
          5.164,
          5.155,
          5.14,
          5.122,
          5.122,
          5.084,
          5.075,
          5.06,
          5.048,
          5.048,
          5.046,
          5.003,
          4.973,
          4.958,
          4.941,
          4.925,
          4.891,
          4.888,
          4.872,
          4.744,
          4.67,
          4.64,
          4.623,
          4.609,
          4.603,
          4.552,
          4.543,
          4.516,
          4.516,
          4.483,
          4.479,
          4.459,
          4.396,
          4.394,
          4.362,
          4.339,
          4.288,
          4.251,
          4.241,
          4.197,
          4.153,
          4.152,
          4.112,
          3.777,
          3.76,
          3.75,
          3.702,
          3.574,
          3.512,
          3.471,
          3.268,
          2.995,
          2.955,
          2.404
         ],
         "xaxis": "x",
         "y": [
          0.534,
          0.532,
          0.191,
          0.461,
          0.419,
          0.388,
          0.512,
          0.474,
          0.143,
          0.483,
          0.329,
          0.341,
          0.408,
          0.358,
          0.368,
          0.177,
          0.329,
          0.048,
          0.204,
          0.266,
          0.155,
          0.115,
          0.102,
          0.25,
          0.18,
          0.168,
          0.587,
          0.006,
          0.149,
          0.265,
          0.059,
          0.035,
          0.166,
          0.077,
          0.025,
          0.333,
          0.051,
          0.134,
          0.115,
          0.157,
          0.062,
          0.09,
          0.088,
          0.069,
          0.212,
          0.115,
          0.0,
          0.14,
          0.212,
          0.147,
          0.064,
          0.107,
          0.24,
          0.218,
          0.076,
          0.039,
          0.085,
          0.108,
          0.176,
          0.142,
          0.026,
          0.028,
          0.053,
          0.025,
          0.282,
          0.077,
          0.006,
          0.059,
          0.179,
          0.126,
          0.064,
          0.142,
          0.059,
          0.037,
          0.077,
          0.083,
          0.105,
          0.032,
          0.213,
          0.08,
          0.383,
          0.21,
          0.304,
          0.13,
          0.021,
          0.179,
          0.047,
          0.124,
          0.031,
          0.028,
          0.046,
          0.341,
          0.103,
          0.187,
          0.184,
          0.15,
          0.08,
          0.017,
          0.146,
          0.102,
          0.2,
          0.074,
          0.081,
          0.145,
          0.208,
          0.099,
          0.046,
          0.082,
          0.116,
          0.146,
          0.056,
          0.115,
          0.126,
          0.068,
          0.23,
          0.125,
          0.066,
          0.038,
          0.082,
          0.029,
          0.112,
          0.079,
          0.042,
          0.071,
          0.154,
          0.194,
          0.079,
          0.154,
          0.254,
          0.077,
          0.136,
          0.098,
          0.138,
          0.2,
          0.132,
          0.123,
          0.083,
          0.157,
          0.27,
          0.055,
          0.018,
          0.102,
          0.544,
          0.105,
          0.034,
          0.005
         ],
         "yaxis": "y",
         "type": "scatter"
        }
       ],
       "layout": {
        "template": {
         "data": {
          "candlestick": [
           {
            "decreasing": {
             "line": {
              "color": "#000033"
             }
            },
            "increasing": {
             "line": {
              "color": "#000032"
             }
            },
            "type": "candlestick"
           }
          ],
          "contourcarpet": [
           {
            "colorscale": [
             [
              0.0,
              "#000011"
             ],
             [
              0.1111111111111111,
              "#000012"
             ],
             [
              0.2222222222222222,
              "#000013"
             ],
             [
              0.3333333333333333,
              "#000014"
             ],
             [
              0.4444444444444444,
              "#000015"
             ],
             [
              0.5555555555555556,
              "#000016"
             ],
             [
              0.6666666666666666,
              "#000017"
             ],
             [
              0.7777777777777778,
              "#000018"
             ],
             [
              0.8888888888888888,
              "#000019"
             ],
             [
              1.0,
              "#000020"
             ]
            ],
            "type": "contourcarpet"
           }
          ],
          "contour": [
           {
            "colorscale": [
             [
              0.0,
              "#000011"
             ],
             [
              0.1111111111111111,
              "#000012"
             ],
             [
              0.2222222222222222,
              "#000013"
             ],
             [
              0.3333333333333333,
              "#000014"
             ],
             [
              0.4444444444444444,
              "#000015"
             ],
             [
              0.5555555555555556,
              "#000016"
             ],
             [
              0.6666666666666666,
              "#000017"
             ],
             [
              0.7777777777777778,
              "#000018"
             ],
             [
              0.8888888888888888,
              "#000019"
             ],
             [
              1.0,
              "#000020"
             ]
            ],
            "type": "contour"
           }
          ],
          "heatmap": [
           {
            "colorscale": [
             [
              0.0,
              "#000011"
             ],
             [
              0.1111111111111111,
              "#000012"
             ],
             [
              0.2222222222222222,
              "#000013"
             ],
             [
              0.3333333333333333,
              "#000014"
             ],
             [
              0.4444444444444444,
              "#000015"
             ],
             [
              0.5555555555555556,
              "#000016"
             ],
             [
              0.6666666666666666,
              "#000017"
             ],
             [
              0.7777777777777778,
              "#000018"
             ],
             [
              0.8888888888888888,
              "#000019"
             ],
             [
              1.0,
              "#000020"
             ]
            ],
            "type": "heatmap"
           }
          ],
          "histogram2d": [
           {
            "colorscale": [
             [
              0.0,
              "#000011"
             ],
             [
              0.1111111111111111,
              "#000012"
             ],
             [
              0.2222222222222222,
              "#000013"
             ],
             [
              0.3333333333333333,
              "#000014"
             ],
             [
              0.4444444444444444,
              "#000015"
             ],
             [
              0.5555555555555556,
              "#000016"
             ],
             [
              0.6666666666666666,
              "#000017"
             ],
             [
              0.7777777777777778,
              "#000018"
             ],
             [
              0.8888888888888888,
              "#000019"
             ],
             [
              1.0,
              "#000020"
             ]
            ],
            "type": "histogram2d"
           }
          ],
          "icicle": [
           {
            "textfont": {
             "color": "white"
            },
            "type": "icicle"
           }
          ],
          "sankey": [
           {
            "textfont": {
             "color": "#000036"
            },
            "type": "sankey"
           }
          ],
          "scatter": [
           {
            "marker": {
             "line": {
              "width": 0
             }
            },
            "type": "scatter"
           }
          ],
          "table": [
           {
            "cells": {
             "fill": {
              "color": "#000038"
             },
             "font": {
              "color": "#000037"
             },
             "line": {
              "color": "#000039"
             }
            },
            "header": {
             "fill": {
              "color": "#000040"
             },
             "font": {
              "color": "#000036"
             },
             "line": {
              "color": "#000039"
             }
            },
            "type": "table"
           }
          ],
          "waterfall": [
           {
            "connector": {
             "line": {
              "color": "#000036",
              "width": 2
             }
            },
            "decreasing": {
             "marker": {
              "color": "#000033"
             }
            },
            "increasing": {
             "marker": {
              "color": "#000032"
             }
            },
            "totals": {
             "marker": {
              "color": "#000034"
             }
            },
            "type": "waterfall"
           }
          ]
         },
         "layout": {
          "coloraxis": {
           "colorscale": [
            [
             0.0,
             "#000011"
            ],
            [
             0.1111111111111111,
             "#000012"
            ],
            [
             0.2222222222222222,
             "#000013"
            ],
            [
             0.3333333333333333,
             "#000014"
            ],
            [
             0.4444444444444444,
             "#000015"
            ],
            [
             0.5555555555555556,
             "#000016"
            ],
            [
             0.6666666666666666,
             "#000017"
            ],
            [
             0.7777777777777778,
             "#000018"
            ],
            [
             0.8888888888888888,
             "#000019"
            ],
            [
             1.0,
             "#000020"
            ]
           ]
          },
          "colorscale": {
           "diverging": [
            [
             0.0,
             "#000021"
            ],
            [
             0.1,
             "#000022"
            ],
            [
             0.2,
             "#000023"
            ],
            [
             0.3,
             "#000024"
            ],
            [
             0.4,
             "#000025"
            ],
            [
             0.5,
             "#000026"
            ],
            [
             0.6,
             "#000027"
            ],
            [
             0.7,
             "#000028"
            ],
            [
             0.8,
             "#000029"
            ],
            [
             0.9,
             "#000030"
            ],
            [
             1.0,
             "#000031"
            ]
           ],
           "sequential": [
            [
             0.0,
             "#000011"
            ],
            [
             0.1111111111111111,
             "#000012"
            ],
            [
             0.2222222222222222,
             "#000013"
            ],
            [
             0.3333333333333333,
             "#000014"
            ],
            [
             0.4444444444444444,
             "#000015"
            ],
            [
             0.5555555555555556,
             "#000016"
            ],
            [
             0.6666666666666666,
             "#000017"
            ],
            [
             0.7777777777777778,
             "#000018"
            ],
            [
             0.8888888888888888,
             "#000019"
            ],
            [
             1.0,
             "#000020"
            ]
           ],
           "sequentialminus": [
            [
             0.0,
             "#000011"
            ],
            [
             0.1111111111111111,
             "#000012"
            ],
            [
             0.2222222222222222,
             "#000013"
            ],
            [
             0.3333333333333333,
             "#000014"
            ],
            [
             0.4444444444444444,
             "#000015"
            ],
            [
             0.5555555555555556,
             "#000016"
            ],
            [
             0.6666666666666666,
             "#000017"
            ],
            [
             0.7777777777777778,
             "#000018"
            ],
            [
             0.8888888888888888,
             "#000019"
            ],
            [
             1.0,
             "#000020"
            ]
           ]
          },
          "colorway": [
           "#000001",
           "#000002",
           "#000003",
           "#000004",
           "#000005",
           "#000006",
           "#000007",
           "#000008",
           "#000009",
           "#000010"
          ]
         }
        },
        "xaxis": {
         "anchor": "y",
         "domain": [
          0.0,
          1.0
         ],
         "title": {
          "text": "Happiness score"
         }
        },
        "yaxis": {
         "anchor": "x",
         "domain": [
          0.0,
          1.0
         ],
         "title": {
          "text": "Explained by: Perceptions of corruption"
         }
        },
        "legend": {
         "tracegroupgap": 0
        },
        "title": {
         "text": "Changes in corruption level with increase of total happiness."
        }
       },
       "config": {
        "plotlyServerURL": "https://plot.ly"
       }
      },
      "text/html": "<div>                            <div id=\"642e17c4-ef94-4450-96f2-aa75d6bddbaf\" class=\"plotly-graph-div\" style=\"height:525px; width:100%;\"></div>            <script type=\"text/javascript\">                require([\"plotly\"], function(Plotly) {                    window.PLOTLYENV=window.PLOTLYENV || {};                                    if (document.getElementById(\"642e17c4-ef94-4450-96f2-aa75d6bddbaf\")) {                    Plotly.newPlot(                        \"642e17c4-ef94-4450-96f2-aa75d6bddbaf\",                        [{\"hovertemplate\":\"Happiness score=%{x}<br>Explained by: Perceptions of corruption=%{y}<extra></extra>\",\"legendgroup\":\"\",\"line\":{\"color\":\"#000001\",\"dash\":\"solid\"},\"marker\":{\"symbol\":\"circle\"},\"mode\":\"lines\",\"name\":\"\",\"orientation\":\"v\",\"showlegend\":false,\"x\":[7.821,7.636,7.557,7.512,7.415,7.404,7.384,7.365,7.364,7.2,7.163,7.162,7.041,7.034,7.025,6.977,6.943,6.92,6.805,6.687,6.647,6.63,6.582,6.576,6.523,6.512,6.48,6.477,6.476,6.474,6.467,6.455,6.447,6.446,6.391,6.341,6.309,6.293,6.262,6.234,6.221,6.18,6.178,6.172,6.165,6.128,6.125,6.123,6.12,6.106,6.086,6.071,6.063,6.039,6.022,6.016,5.967,5.948,5.935,5.904,5.891,5.857,5.85,5.828,5.821,5.781,5.768,5.761,5.737,5.711,5.6,5.585,5.578,5.559,5.547,5.533,5.485,5.474,5.467,5.459,5.425,5.399,5.377,5.377,5.371,5.33,5.24,5.235,5.199,5.199,5.194,5.173,5.164,5.155,5.14,5.122,5.122,5.084,5.075,5.06,5.048,5.048,5.046,5.003,4.973,4.958,4.941,4.925,4.891,4.888,4.872,4.744,4.67,4.64,4.623,4.609,4.603,4.552,4.543,4.516,4.516,4.483,4.479,4.459,4.396,4.394,4.362,4.339,4.288,4.251,4.241,4.197,4.153,4.152,4.112,3.777,3.76,3.75,3.702,3.574,3.512,3.471,3.268,2.995,2.955,2.404],\"xaxis\":\"x\",\"y\":[0.534,0.532,0.191,0.461,0.419,0.388,0.512,0.474,0.143,0.483,0.329,0.341,0.408,0.358,0.368,0.177,0.329,0.048,0.204,0.266,0.155,0.115,0.102,0.25,0.18,0.168,0.587,0.006,0.149,0.265,0.059,0.035,0.166,0.077,0.025,0.333,0.051,0.134,0.115,0.157,0.062,0.09,0.088,0.069,0.212,0.115,0.0,0.14,0.212,0.147,0.064,0.107,0.24,0.218,0.076,0.039,0.085,0.108,0.176,0.142,0.026,0.028,0.053,0.025,0.282,0.077,0.006,0.059,0.179,0.126,0.064,0.142,0.059,0.037,0.077,0.083,0.105,0.032,0.213,0.08,0.383,0.21,0.304,0.13,0.021,0.179,0.047,0.124,0.031,0.028,0.046,0.341,0.103,0.187,0.184,0.15,0.08,0.017,0.146,0.102,0.2,0.074,0.081,0.145,0.208,0.099,0.046,0.082,0.116,0.146,0.056,0.115,0.126,0.068,0.23,0.125,0.066,0.038,0.082,0.029,0.112,0.079,0.042,0.071,0.154,0.194,0.079,0.154,0.254,0.077,0.136,0.098,0.138,0.2,0.132,0.123,0.083,0.157,0.27,0.055,0.018,0.102,0.544,0.105,0.034,0.005],\"yaxis\":\"y\",\"type\":\"scatter\"}],                        {\"template\":{\"data\":{\"candlestick\":[{\"decreasing\":{\"line\":{\"color\":\"#000033\"}},\"increasing\":{\"line\":{\"color\":\"#000032\"}},\"type\":\"candlestick\"}],\"contourcarpet\":[{\"colorscale\":[[0.0,\"#000011\"],[0.1111111111111111,\"#000012\"],[0.2222222222222222,\"#000013\"],[0.3333333333333333,\"#000014\"],[0.4444444444444444,\"#000015\"],[0.5555555555555556,\"#000016\"],[0.6666666666666666,\"#000017\"],[0.7777777777777778,\"#000018\"],[0.8888888888888888,\"#000019\"],[1.0,\"#000020\"]],\"type\":\"contourcarpet\"}],\"contour\":[{\"colorscale\":[[0.0,\"#000011\"],[0.1111111111111111,\"#000012\"],[0.2222222222222222,\"#000013\"],[0.3333333333333333,\"#000014\"],[0.4444444444444444,\"#000015\"],[0.5555555555555556,\"#000016\"],[0.6666666666666666,\"#000017\"],[0.7777777777777778,\"#000018\"],[0.8888888888888888,\"#000019\"],[1.0,\"#000020\"]],\"type\":\"contour\"}],\"heatmap\":[{\"colorscale\":[[0.0,\"#000011\"],[0.1111111111111111,\"#000012\"],[0.2222222222222222,\"#000013\"],[0.3333333333333333,\"#000014\"],[0.4444444444444444,\"#000015\"],[0.5555555555555556,\"#000016\"],[0.6666666666666666,\"#000017\"],[0.7777777777777778,\"#000018\"],[0.8888888888888888,\"#000019\"],[1.0,\"#000020\"]],\"type\":\"heatmap\"}],\"histogram2d\":[{\"colorscale\":[[0.0,\"#000011\"],[0.1111111111111111,\"#000012\"],[0.2222222222222222,\"#000013\"],[0.3333333333333333,\"#000014\"],[0.4444444444444444,\"#000015\"],[0.5555555555555556,\"#000016\"],[0.6666666666666666,\"#000017\"],[0.7777777777777778,\"#000018\"],[0.8888888888888888,\"#000019\"],[1.0,\"#000020\"]],\"type\":\"histogram2d\"}],\"icicle\":[{\"textfont\":{\"color\":\"white\"},\"type\":\"icicle\"}],\"sankey\":[{\"textfont\":{\"color\":\"#000036\"},\"type\":\"sankey\"}],\"scatter\":[{\"marker\":{\"line\":{\"width\":0}},\"type\":\"scatter\"}],\"table\":[{\"cells\":{\"fill\":{\"color\":\"#000038\"},\"font\":{\"color\":\"#000037\"},\"line\":{\"color\":\"#000039\"}},\"header\":{\"fill\":{\"color\":\"#000040\"},\"font\":{\"color\":\"#000036\"},\"line\":{\"color\":\"#000039\"}},\"type\":\"table\"}],\"waterfall\":[{\"connector\":{\"line\":{\"color\":\"#000036\",\"width\":2}},\"decreasing\":{\"marker\":{\"color\":\"#000033\"}},\"increasing\":{\"marker\":{\"color\":\"#000032\"}},\"totals\":{\"marker\":{\"color\":\"#000034\"}},\"type\":\"waterfall\"}]},\"layout\":{\"coloraxis\":{\"colorscale\":[[0.0,\"#000011\"],[0.1111111111111111,\"#000012\"],[0.2222222222222222,\"#000013\"],[0.3333333333333333,\"#000014\"],[0.4444444444444444,\"#000015\"],[0.5555555555555556,\"#000016\"],[0.6666666666666666,\"#000017\"],[0.7777777777777778,\"#000018\"],[0.8888888888888888,\"#000019\"],[1.0,\"#000020\"]]},\"colorscale\":{\"diverging\":[[0.0,\"#000021\"],[0.1,\"#000022\"],[0.2,\"#000023\"],[0.3,\"#000024\"],[0.4,\"#000025\"],[0.5,\"#000026\"],[0.6,\"#000027\"],[0.7,\"#000028\"],[0.8,\"#000029\"],[0.9,\"#000030\"],[1.0,\"#000031\"]],\"sequential\":[[0.0,\"#000011\"],[0.1111111111111111,\"#000012\"],[0.2222222222222222,\"#000013\"],[0.3333333333333333,\"#000014\"],[0.4444444444444444,\"#000015\"],[0.5555555555555556,\"#000016\"],[0.6666666666666666,\"#000017\"],[0.7777777777777778,\"#000018\"],[0.8888888888888888,\"#000019\"],[1.0,\"#000020\"]],\"sequentialminus\":[[0.0,\"#000011\"],[0.1111111111111111,\"#000012\"],[0.2222222222222222,\"#000013\"],[0.3333333333333333,\"#000014\"],[0.4444444444444444,\"#000015\"],[0.5555555555555556,\"#000016\"],[0.6666666666666666,\"#000017\"],[0.7777777777777778,\"#000018\"],[0.8888888888888888,\"#000019\"],[1.0,\"#000020\"]]},\"colorway\":[\"#000001\",\"#000002\",\"#000003\",\"#000004\",\"#000005\",\"#000006\",\"#000007\",\"#000008\",\"#000009\",\"#000010\"]}},\"xaxis\":{\"anchor\":\"y\",\"domain\":[0.0,1.0],\"title\":{\"text\":\"Happiness score\"}},\"yaxis\":{\"anchor\":\"x\",\"domain\":[0.0,1.0],\"title\":{\"text\":\"Explained by: Perceptions of corruption\"}},\"legend\":{\"tracegroupgap\":0},\"title\":{\"text\":\"Changes in corruption level with increase of total happiness.\"}},                        {\"responsive\": true}                    ).then(function(){\n                            \nvar gd = document.getElementById('642e17c4-ef94-4450-96f2-aa75d6bddbaf');\nvar x = new MutationObserver(function (mutations, observer) {{\n        var display = window.getComputedStyle(gd).display;\n        if (!display || display === 'none') {{\n            console.log([gd, 'removed!']);\n            Plotly.purge(gd);\n            observer.disconnect();\n        }}\n}});\n\n// Listen for the removal of the full notebook cells\nvar notebookContainer = gd.closest('#notebook-container');\nif (notebookContainer) {{\n    x.observe(notebookContainer, {childList: true});\n}}\n\n// Listen for the clearing of the current output cell\nvar outputEl = gd.closest('.output');\nif (outputEl) {{\n    x.observe(outputEl, {childList: true});\n}}\n\n                        })                };                });            </script>        </div>"
     },
     "metadata": {},
     "output_type": "display_data"
    }
   ],
   "source": [
    "fig = px.line(happy_df, x=\"Happiness score\", y=\"Explained by: Perceptions of corruption\",\n",
    "              title='Changes in corruption level with increase of total happiness.')\n",
    "fig.show()"
   ],
   "metadata": {
    "collapsed": false
   }
  },
  {
   "cell_type": "code",
   "execution_count": 364,
   "outputs": [
    {
     "data": {
      "text/plain": "DeltaGenerator(_root_container=0, _provided_cursor=None, _parent=None, _block_type=None, _form_data=None)"
     },
     "execution_count": 364,
     "metadata": {},
     "output_type": "execute_result"
    }
   ],
   "source": [
    "st.markdown('At this stage, it can be noted that there was no confirmation of the hypothesis of corruption. And although the level of corruption is really higher at low levels of happiness, and it is much lower in the happiest countries. All other countries, regardless of their level of happiness, fluctuates very much.'\n",
    "            'It is also worth clarifying that in this particular case, a high value on the graph is equivalent to low corruption and vice versa.')"
   ],
   "metadata": {
    "collapsed": false
   }
  },
  {
   "cell_type": "code",
   "execution_count": 365,
   "outputs": [
    {
     "data": {
      "application/vnd.plotly.v1+json": {
       "data": [
        {
         "hovertemplate": "Explained by: Social support=%{x}<br>Explained by: Healthy life expectancy=%{y}<br>Explained by: GDP per capita=%{marker.color}<extra></extra>",
         "legendgroup": "",
         "marker": {
          "color": [
           1.892,
           1.953,
           1.936,
           2.026,
           1.945,
           2.209,
           1.92,
           1.997,
           1.826,
           1.852,
           1.931,
           1.9,
           2.129,
           1.924,
           1.886,
           1.982,
           1.867,
           1.815,
           1.907,
           1.863,
           1.854,
           1.81,
           1.584,
           1.998,
           1.87,
           1.897,
           2.149,
           1.719,
           1.808,
           1.615,
           1.834,
           1.362,
           1.838,
           1.804,
           1.736,
           1.793,
           1.715,
           1.462,
           1.274,
           1.668,
           1.815,
           1.732,
           1.55,
           1.651,
           1.105,
           1.552,
           1.705,
           1.758,
           1.265,
           1.904,
           1.748,
           1.591,
           1.219,
           1.835,
           1.111,
           1.76,
           1.592,
           1.703,
           1.851,
           1.268,
           1.535,
           1.417,
           1.296,
           1.069,
           1.562,
           1.452,
           1.468,
           1.393,
           1.538,
           1.689,
           1.256,
           1.508,
           1.409,
           1.397,
           1.573,
           1.352,
           1.252,
           1.484,
           1.815,
           1.685,
           1.957,
           1.434,
           0.966,
           0.984,
           1.625,
           1.476,
           1.382,
           1.094,
           1.505,
           1.439,
           1.425,
           1.458,
           0.785,
           1.06,
           1.239,
           1.363,
           0.636,
           1.411,
           0.95,
           1.208,
           0.578,
           0.968,
           0.933,
           0.57,
           1.467,
           1.459,
           1.289,
           0.0,
           0.848,
           1.41,
           1.112,
           1.707,
           0.779,
           1.019,
           0.932,
           0.899,
           0.777,
           1.079,
           1.032,
           1.35,
           1.049,
           1.148,
           0.792,
           1.292,
           1.274,
           1.038,
           1.415,
           0.67,
           1.388,
           0.662,
           0.788,
           0.691,
           1.1,
           1.324,
           0.771,
           1.167,
           0.93,
           0.648,
           0.848,
           0.686,
           0.839,
           1.503,
           0.785,
           0.947,
           1.392,
           0.758
          ],
          "coloraxis": "coloraxis",
          "symbol": "circle"
         },
         "mode": "markers",
         "name": "",
         "orientation": "v",
         "showlegend": false,
         "x": [
          1.258,
          1.243,
          1.32,
          1.226,
          1.206,
          1.155,
          1.204,
          1.239,
          1.221,
          1.235,
          1.165,
          1.203,
          1.166,
          1.088,
          1.188,
          1.182,
          1.143,
          1.26,
          1.106,
          1.219,
          1.029,
          1.249,
          1.054,
          0.98,
          1.092,
          1.095,
          1.127,
          1.006,
          1.211,
          1.18,
          1.052,
          0.949,
          1.169,
          1.204,
          1.232,
          1.232,
          1.107,
          1.044,
          0.831,
          1.22,
          0.909,
          1.221,
          1.086,
          1.08,
          1.029,
          0.886,
          1.183,
          1.174,
          0.768,
          0.983,
          1.233,
          1.116,
          1.092,
          1.089,
          0.885,
          1.078,
          1.102,
          0.98,
          0.886,
          0.912,
          1.096,
          1.008,
          1.045,
          1.109,
          1.157,
          0.929,
          1.068,
          1.197,
          1.003,
          0.938,
          0.88,
          0.958,
          1.13,
          0.865,
          1.023,
          0.879,
          0.932,
          1.319,
          0.888,
          1.095,
          0.954,
          0.82,
          1.005,
          0.784,
          1.163,
          0.943,
          0.883,
          0.442,
          0.863,
          0.646,
          1.088,
          1.093,
          0.621,
          0.614,
          0.654,
          0.97,
          0.67,
          1.081,
          0.405,
          0.268,
          0.66,
          0.672,
          0.53,
          0.56,
          0.612,
          0.738,
          0.682,
          0.968,
          0.566,
          0.741,
          0.595,
          0.865,
          0.565,
          0.732,
          0.064,
          0.476,
          0.875,
          0.732,
          0.605,
          0.596,
          0.413,
          0.957,
          0.483,
          0.877,
          0.786,
          0.829,
          0.934,
          0.645,
          0.732,
          0.506,
          0.809,
          1.043,
          0.865,
          0.724,
          0.322,
          0.376,
          0.577,
          0.279,
          0.597,
          0.416,
          0.848,
          0.815,
          0.133,
          0.69,
          0.498,
          0.0
         ],
         "xaxis": "x",
         "y": [
          0.775,
          0.777,
          0.803,
          0.822,
          0.787,
          0.79,
          0.803,
          0.786,
          0.818,
          0.752,
          0.774,
          0.772,
          0.779,
          0.776,
          0.783,
          0.628,
          0.75,
          0.715,
          0.764,
          0.808,
          0.625,
          0.769,
          0.744,
          0.633,
          0.577,
          0.733,
          0.851,
          0.655,
          0.808,
          0.672,
          0.801,
          0.569,
          0.789,
          0.659,
          0.707,
          0.728,
          0.709,
          0.615,
          0.522,
          0.611,
          0.819,
          0.637,
          0.658,
          0.748,
          0.617,
          0.623,
          0.709,
          0.712,
          0.607,
          0.747,
          0.668,
          0.568,
          0.6,
          0.866,
          0.555,
          0.777,
          0.662,
          0.774,
          0.841,
          0.514,
          0.697,
          0.597,
          0.646,
          0.638,
          0.629,
          0.72,
          0.665,
          0.467,
          0.577,
          0.62,
          0.555,
          0.705,
          0.624,
          0.735,
          0.659,
          0.708,
          0.611,
          0.516,
          0.819,
          0.586,
          0.942,
          0.668,
          0.518,
          0.499,
          0.64,
          0.606,
          0.539,
          0.322,
          0.637,
          0.719,
          0.361,
          0.56,
          0.369,
          0.581,
          0.479,
          0.643,
          0.309,
          0.583,
          0.355,
          0.565,
          0.191,
          0.317,
          0.447,
          0.326,
          0.595,
          0.396,
          0.554,
          0.578,
          0.275,
          0.642,
          0.409,
          0.702,
          0.32,
          0.505,
          0.335,
          0.424,
          0.418,
          0.3,
          0.401,
          0.656,
          0.374,
          0.521,
          0.311,
          0.354,
          0.197,
          0.491,
          0.66,
          0.378,
          0.548,
          0.225,
          0.457,
          0.384,
          0.45,
          0.675,
          0.36,
          0.471,
          0.306,
          0.388,
          0.425,
          0.273,
          0.0,
          0.28,
          0.462,
          0.27,
          0.631,
          0.289
         ],
         "yaxis": "y",
         "type": "scatter"
        }
       ],
       "layout": {
        "template": {
         "data": {
          "candlestick": [
           {
            "decreasing": {
             "line": {
              "color": "#000033"
             }
            },
            "increasing": {
             "line": {
              "color": "#000032"
             }
            },
            "type": "candlestick"
           }
          ],
          "contourcarpet": [
           {
            "colorscale": [
             [
              0.0,
              "#000011"
             ],
             [
              0.1111111111111111,
              "#000012"
             ],
             [
              0.2222222222222222,
              "#000013"
             ],
             [
              0.3333333333333333,
              "#000014"
             ],
             [
              0.4444444444444444,
              "#000015"
             ],
             [
              0.5555555555555556,
              "#000016"
             ],
             [
              0.6666666666666666,
              "#000017"
             ],
             [
              0.7777777777777778,
              "#000018"
             ],
             [
              0.8888888888888888,
              "#000019"
             ],
             [
              1.0,
              "#000020"
             ]
            ],
            "type": "contourcarpet"
           }
          ],
          "contour": [
           {
            "colorscale": [
             [
              0.0,
              "#000011"
             ],
             [
              0.1111111111111111,
              "#000012"
             ],
             [
              0.2222222222222222,
              "#000013"
             ],
             [
              0.3333333333333333,
              "#000014"
             ],
             [
              0.4444444444444444,
              "#000015"
             ],
             [
              0.5555555555555556,
              "#000016"
             ],
             [
              0.6666666666666666,
              "#000017"
             ],
             [
              0.7777777777777778,
              "#000018"
             ],
             [
              0.8888888888888888,
              "#000019"
             ],
             [
              1.0,
              "#000020"
             ]
            ],
            "type": "contour"
           }
          ],
          "heatmap": [
           {
            "colorscale": [
             [
              0.0,
              "#000011"
             ],
             [
              0.1111111111111111,
              "#000012"
             ],
             [
              0.2222222222222222,
              "#000013"
             ],
             [
              0.3333333333333333,
              "#000014"
             ],
             [
              0.4444444444444444,
              "#000015"
             ],
             [
              0.5555555555555556,
              "#000016"
             ],
             [
              0.6666666666666666,
              "#000017"
             ],
             [
              0.7777777777777778,
              "#000018"
             ],
             [
              0.8888888888888888,
              "#000019"
             ],
             [
              1.0,
              "#000020"
             ]
            ],
            "type": "heatmap"
           }
          ],
          "histogram2d": [
           {
            "colorscale": [
             [
              0.0,
              "#000011"
             ],
             [
              0.1111111111111111,
              "#000012"
             ],
             [
              0.2222222222222222,
              "#000013"
             ],
             [
              0.3333333333333333,
              "#000014"
             ],
             [
              0.4444444444444444,
              "#000015"
             ],
             [
              0.5555555555555556,
              "#000016"
             ],
             [
              0.6666666666666666,
              "#000017"
             ],
             [
              0.7777777777777778,
              "#000018"
             ],
             [
              0.8888888888888888,
              "#000019"
             ],
             [
              1.0,
              "#000020"
             ]
            ],
            "type": "histogram2d"
           }
          ],
          "icicle": [
           {
            "textfont": {
             "color": "white"
            },
            "type": "icicle"
           }
          ],
          "sankey": [
           {
            "textfont": {
             "color": "#000036"
            },
            "type": "sankey"
           }
          ],
          "scatter": [
           {
            "marker": {
             "line": {
              "width": 0
             }
            },
            "type": "scatter"
           }
          ],
          "table": [
           {
            "cells": {
             "fill": {
              "color": "#000038"
             },
             "font": {
              "color": "#000037"
             },
             "line": {
              "color": "#000039"
             }
            },
            "header": {
             "fill": {
              "color": "#000040"
             },
             "font": {
              "color": "#000036"
             },
             "line": {
              "color": "#000039"
             }
            },
            "type": "table"
           }
          ],
          "waterfall": [
           {
            "connector": {
             "line": {
              "color": "#000036",
              "width": 2
             }
            },
            "decreasing": {
             "marker": {
              "color": "#000033"
             }
            },
            "increasing": {
             "marker": {
              "color": "#000032"
             }
            },
            "totals": {
             "marker": {
              "color": "#000034"
             }
            },
            "type": "waterfall"
           }
          ]
         },
         "layout": {
          "coloraxis": {
           "colorscale": [
            [
             0.0,
             "#000011"
            ],
            [
             0.1111111111111111,
             "#000012"
            ],
            [
             0.2222222222222222,
             "#000013"
            ],
            [
             0.3333333333333333,
             "#000014"
            ],
            [
             0.4444444444444444,
             "#000015"
            ],
            [
             0.5555555555555556,
             "#000016"
            ],
            [
             0.6666666666666666,
             "#000017"
            ],
            [
             0.7777777777777778,
             "#000018"
            ],
            [
             0.8888888888888888,
             "#000019"
            ],
            [
             1.0,
             "#000020"
            ]
           ]
          },
          "colorscale": {
           "diverging": [
            [
             0.0,
             "#000021"
            ],
            [
             0.1,
             "#000022"
            ],
            [
             0.2,
             "#000023"
            ],
            [
             0.3,
             "#000024"
            ],
            [
             0.4,
             "#000025"
            ],
            [
             0.5,
             "#000026"
            ],
            [
             0.6,
             "#000027"
            ],
            [
             0.7,
             "#000028"
            ],
            [
             0.8,
             "#000029"
            ],
            [
             0.9,
             "#000030"
            ],
            [
             1.0,
             "#000031"
            ]
           ],
           "sequential": [
            [
             0.0,
             "#000011"
            ],
            [
             0.1111111111111111,
             "#000012"
            ],
            [
             0.2222222222222222,
             "#000013"
            ],
            [
             0.3333333333333333,
             "#000014"
            ],
            [
             0.4444444444444444,
             "#000015"
            ],
            [
             0.5555555555555556,
             "#000016"
            ],
            [
             0.6666666666666666,
             "#000017"
            ],
            [
             0.7777777777777778,
             "#000018"
            ],
            [
             0.8888888888888888,
             "#000019"
            ],
            [
             1.0,
             "#000020"
            ]
           ],
           "sequentialminus": [
            [
             0.0,
             "#000011"
            ],
            [
             0.1111111111111111,
             "#000012"
            ],
            [
             0.2222222222222222,
             "#000013"
            ],
            [
             0.3333333333333333,
             "#000014"
            ],
            [
             0.4444444444444444,
             "#000015"
            ],
            [
             0.5555555555555556,
             "#000016"
            ],
            [
             0.6666666666666666,
             "#000017"
            ],
            [
             0.7777777777777778,
             "#000018"
            ],
            [
             0.8888888888888888,
             "#000019"
            ],
            [
             1.0,
             "#000020"
            ]
           ]
          },
          "colorway": [
           "#000001",
           "#000002",
           "#000003",
           "#000004",
           "#000005",
           "#000006",
           "#000007",
           "#000008",
           "#000009",
           "#000010"
          ]
         }
        },
        "xaxis": {
         "anchor": "y",
         "domain": [
          0.0,
          1.0
         ],
         "title": {
          "text": "Explained by: Social support"
         }
        },
        "yaxis": {
         "anchor": "x",
         "domain": [
          0.0,
          1.0
         ],
         "title": {
          "text": "Explained by: Healthy life expectancy"
         }
        },
        "coloraxis": {
         "colorbar": {
          "title": {
           "text": "Explained by: GDP per capita"
          }
         },
         "colorscale": [
          [
           0.0,
           "#000011"
          ],
          [
           0.1111111111111111,
           "#000012"
          ],
          [
           0.2222222222222222,
           "#000013"
          ],
          [
           0.3333333333333333,
           "#000014"
          ],
          [
           0.4444444444444444,
           "#000015"
          ],
          [
           0.5555555555555556,
           "#000016"
          ],
          [
           0.6666666666666666,
           "#000017"
          ],
          [
           0.7777777777777778,
           "#000018"
          ],
          [
           0.8888888888888888,
           "#000019"
          ],
          [
           1.0,
           "#000020"
          ]
         ]
        },
        "legend": {
         "tracegroupgap": 0
        },
        "margin": {
         "t": 60
        }
       },
       "config": {
        "plotlyServerURL": "https://plot.ly"
       }
      },
      "text/html": "<div>                            <div id=\"7d1a3bd1-ce1a-4d18-ab9b-89e5574f31d0\" class=\"plotly-graph-div\" style=\"height:525px; width:100%;\"></div>            <script type=\"text/javascript\">                require([\"plotly\"], function(Plotly) {                    window.PLOTLYENV=window.PLOTLYENV || {};                                    if (document.getElementById(\"7d1a3bd1-ce1a-4d18-ab9b-89e5574f31d0\")) {                    Plotly.newPlot(                        \"7d1a3bd1-ce1a-4d18-ab9b-89e5574f31d0\",                        [{\"hovertemplate\":\"Explained by: Social support=%{x}<br>Explained by: Healthy life expectancy=%{y}<br>Explained by: GDP per capita=%{marker.color}<extra></extra>\",\"legendgroup\":\"\",\"marker\":{\"color\":[1.892,1.953,1.936,2.026,1.945,2.209,1.92,1.997,1.826,1.852,1.931,1.9,2.129,1.924,1.886,1.982,1.867,1.815,1.907,1.863,1.854,1.81,1.584,1.998,1.87,1.897,2.149,1.719,1.808,1.615,1.834,1.362,1.838,1.804,1.736,1.793,1.715,1.462,1.274,1.668,1.815,1.732,1.55,1.651,1.105,1.552,1.705,1.758,1.265,1.904,1.748,1.591,1.219,1.835,1.111,1.76,1.592,1.703,1.851,1.268,1.535,1.417,1.296,1.069,1.562,1.452,1.468,1.393,1.538,1.689,1.256,1.508,1.409,1.397,1.573,1.352,1.252,1.484,1.815,1.685,1.957,1.434,0.966,0.984,1.625,1.476,1.382,1.094,1.505,1.439,1.425,1.458,0.785,1.06,1.239,1.363,0.636,1.411,0.95,1.208,0.578,0.968,0.933,0.57,1.467,1.459,1.289,0.0,0.848,1.41,1.112,1.707,0.779,1.019,0.932,0.899,0.777,1.079,1.032,1.35,1.049,1.148,0.792,1.292,1.274,1.038,1.415,0.67,1.388,0.662,0.788,0.691,1.1,1.324,0.771,1.167,0.93,0.648,0.848,0.686,0.839,1.503,0.785,0.947,1.392,0.758],\"coloraxis\":\"coloraxis\",\"symbol\":\"circle\"},\"mode\":\"markers\",\"name\":\"\",\"orientation\":\"v\",\"showlegend\":false,\"x\":[1.258,1.243,1.32,1.226,1.206,1.155,1.204,1.239,1.221,1.235,1.165,1.203,1.166,1.088,1.188,1.182,1.143,1.26,1.106,1.219,1.029,1.249,1.054,0.98,1.092,1.095,1.127,1.006,1.211,1.18,1.052,0.949,1.169,1.204,1.232,1.232,1.107,1.044,0.831,1.22,0.909,1.221,1.086,1.08,1.029,0.886,1.183,1.174,0.768,0.983,1.233,1.116,1.092,1.089,0.885,1.078,1.102,0.98,0.886,0.912,1.096,1.008,1.045,1.109,1.157,0.929,1.068,1.197,1.003,0.938,0.88,0.958,1.13,0.865,1.023,0.879,0.932,1.319,0.888,1.095,0.954,0.82,1.005,0.784,1.163,0.943,0.883,0.442,0.863,0.646,1.088,1.093,0.621,0.614,0.654,0.97,0.67,1.081,0.405,0.268,0.66,0.672,0.53,0.56,0.612,0.738,0.682,0.968,0.566,0.741,0.595,0.865,0.565,0.732,0.064,0.476,0.875,0.732,0.605,0.596,0.413,0.957,0.483,0.877,0.786,0.829,0.934,0.645,0.732,0.506,0.809,1.043,0.865,0.724,0.322,0.376,0.577,0.279,0.597,0.416,0.848,0.815,0.133,0.69,0.498,0.0],\"xaxis\":\"x\",\"y\":[0.775,0.777,0.803,0.822,0.787,0.79,0.803,0.786,0.818,0.752,0.774,0.772,0.779,0.776,0.783,0.628,0.75,0.715,0.764,0.808,0.625,0.769,0.744,0.633,0.577,0.733,0.851,0.655,0.808,0.672,0.801,0.569,0.789,0.659,0.707,0.728,0.709,0.615,0.522,0.611,0.819,0.637,0.658,0.748,0.617,0.623,0.709,0.712,0.607,0.747,0.668,0.568,0.6,0.866,0.555,0.777,0.662,0.774,0.841,0.514,0.697,0.597,0.646,0.638,0.629,0.72,0.665,0.467,0.577,0.62,0.555,0.705,0.624,0.735,0.659,0.708,0.611,0.516,0.819,0.586,0.942,0.668,0.518,0.499,0.64,0.606,0.539,0.322,0.637,0.719,0.361,0.56,0.369,0.581,0.479,0.643,0.309,0.583,0.355,0.565,0.191,0.317,0.447,0.326,0.595,0.396,0.554,0.578,0.275,0.642,0.409,0.702,0.32,0.505,0.335,0.424,0.418,0.3,0.401,0.656,0.374,0.521,0.311,0.354,0.197,0.491,0.66,0.378,0.548,0.225,0.457,0.384,0.45,0.675,0.36,0.471,0.306,0.388,0.425,0.273,0.0,0.28,0.462,0.27,0.631,0.289],\"yaxis\":\"y\",\"type\":\"scatter\"}],                        {\"template\":{\"data\":{\"candlestick\":[{\"decreasing\":{\"line\":{\"color\":\"#000033\"}},\"increasing\":{\"line\":{\"color\":\"#000032\"}},\"type\":\"candlestick\"}],\"contourcarpet\":[{\"colorscale\":[[0.0,\"#000011\"],[0.1111111111111111,\"#000012\"],[0.2222222222222222,\"#000013\"],[0.3333333333333333,\"#000014\"],[0.4444444444444444,\"#000015\"],[0.5555555555555556,\"#000016\"],[0.6666666666666666,\"#000017\"],[0.7777777777777778,\"#000018\"],[0.8888888888888888,\"#000019\"],[1.0,\"#000020\"]],\"type\":\"contourcarpet\"}],\"contour\":[{\"colorscale\":[[0.0,\"#000011\"],[0.1111111111111111,\"#000012\"],[0.2222222222222222,\"#000013\"],[0.3333333333333333,\"#000014\"],[0.4444444444444444,\"#000015\"],[0.5555555555555556,\"#000016\"],[0.6666666666666666,\"#000017\"],[0.7777777777777778,\"#000018\"],[0.8888888888888888,\"#000019\"],[1.0,\"#000020\"]],\"type\":\"contour\"}],\"heatmap\":[{\"colorscale\":[[0.0,\"#000011\"],[0.1111111111111111,\"#000012\"],[0.2222222222222222,\"#000013\"],[0.3333333333333333,\"#000014\"],[0.4444444444444444,\"#000015\"],[0.5555555555555556,\"#000016\"],[0.6666666666666666,\"#000017\"],[0.7777777777777778,\"#000018\"],[0.8888888888888888,\"#000019\"],[1.0,\"#000020\"]],\"type\":\"heatmap\"}],\"histogram2d\":[{\"colorscale\":[[0.0,\"#000011\"],[0.1111111111111111,\"#000012\"],[0.2222222222222222,\"#000013\"],[0.3333333333333333,\"#000014\"],[0.4444444444444444,\"#000015\"],[0.5555555555555556,\"#000016\"],[0.6666666666666666,\"#000017\"],[0.7777777777777778,\"#000018\"],[0.8888888888888888,\"#000019\"],[1.0,\"#000020\"]],\"type\":\"histogram2d\"}],\"icicle\":[{\"textfont\":{\"color\":\"white\"},\"type\":\"icicle\"}],\"sankey\":[{\"textfont\":{\"color\":\"#000036\"},\"type\":\"sankey\"}],\"scatter\":[{\"marker\":{\"line\":{\"width\":0}},\"type\":\"scatter\"}],\"table\":[{\"cells\":{\"fill\":{\"color\":\"#000038\"},\"font\":{\"color\":\"#000037\"},\"line\":{\"color\":\"#000039\"}},\"header\":{\"fill\":{\"color\":\"#000040\"},\"font\":{\"color\":\"#000036\"},\"line\":{\"color\":\"#000039\"}},\"type\":\"table\"}],\"waterfall\":[{\"connector\":{\"line\":{\"color\":\"#000036\",\"width\":2}},\"decreasing\":{\"marker\":{\"color\":\"#000033\"}},\"increasing\":{\"marker\":{\"color\":\"#000032\"}},\"totals\":{\"marker\":{\"color\":\"#000034\"}},\"type\":\"waterfall\"}]},\"layout\":{\"coloraxis\":{\"colorscale\":[[0.0,\"#000011\"],[0.1111111111111111,\"#000012\"],[0.2222222222222222,\"#000013\"],[0.3333333333333333,\"#000014\"],[0.4444444444444444,\"#000015\"],[0.5555555555555556,\"#000016\"],[0.6666666666666666,\"#000017\"],[0.7777777777777778,\"#000018\"],[0.8888888888888888,\"#000019\"],[1.0,\"#000020\"]]},\"colorscale\":{\"diverging\":[[0.0,\"#000021\"],[0.1,\"#000022\"],[0.2,\"#000023\"],[0.3,\"#000024\"],[0.4,\"#000025\"],[0.5,\"#000026\"],[0.6,\"#000027\"],[0.7,\"#000028\"],[0.8,\"#000029\"],[0.9,\"#000030\"],[1.0,\"#000031\"]],\"sequential\":[[0.0,\"#000011\"],[0.1111111111111111,\"#000012\"],[0.2222222222222222,\"#000013\"],[0.3333333333333333,\"#000014\"],[0.4444444444444444,\"#000015\"],[0.5555555555555556,\"#000016\"],[0.6666666666666666,\"#000017\"],[0.7777777777777778,\"#000018\"],[0.8888888888888888,\"#000019\"],[1.0,\"#000020\"]],\"sequentialminus\":[[0.0,\"#000011\"],[0.1111111111111111,\"#000012\"],[0.2222222222222222,\"#000013\"],[0.3333333333333333,\"#000014\"],[0.4444444444444444,\"#000015\"],[0.5555555555555556,\"#000016\"],[0.6666666666666666,\"#000017\"],[0.7777777777777778,\"#000018\"],[0.8888888888888888,\"#000019\"],[1.0,\"#000020\"]]},\"colorway\":[\"#000001\",\"#000002\",\"#000003\",\"#000004\",\"#000005\",\"#000006\",\"#000007\",\"#000008\",\"#000009\",\"#000010\"]}},\"xaxis\":{\"anchor\":\"y\",\"domain\":[0.0,1.0],\"title\":{\"text\":\"Explained by: Social support\"}},\"yaxis\":{\"anchor\":\"x\",\"domain\":[0.0,1.0],\"title\":{\"text\":\"Explained by: Healthy life expectancy\"}},\"coloraxis\":{\"colorbar\":{\"title\":{\"text\":\"Explained by: GDP per capita\"}},\"colorscale\":[[0.0,\"#000011\"],[0.1111111111111111,\"#000012\"],[0.2222222222222222,\"#000013\"],[0.3333333333333333,\"#000014\"],[0.4444444444444444,\"#000015\"],[0.5555555555555556,\"#000016\"],[0.6666666666666666,\"#000017\"],[0.7777777777777778,\"#000018\"],[0.8888888888888888,\"#000019\"],[1.0,\"#000020\"]]},\"legend\":{\"tracegroupgap\":0},\"margin\":{\"t\":60}},                        {\"responsive\": true}                    ).then(function(){\n                            \nvar gd = document.getElementById('7d1a3bd1-ce1a-4d18-ab9b-89e5574f31d0');\nvar x = new MutationObserver(function (mutations, observer) {{\n        var display = window.getComputedStyle(gd).display;\n        if (!display || display === 'none') {{\n            console.log([gd, 'removed!']);\n            Plotly.purge(gd);\n            observer.disconnect();\n        }}\n}});\n\n// Listen for the removal of the full notebook cells\nvar notebookContainer = gd.closest('#notebook-container');\nif (notebookContainer) {{\n    x.observe(notebookContainer, {childList: true});\n}}\n\n// Listen for the clearing of the current output cell\nvar outputEl = gd.closest('.output');\nif (outputEl) {{\n    x.observe(outputEl, {childList: true});\n}}\n\n                        })                };                });            </script>        </div>"
     },
     "metadata": {},
     "output_type": "display_data"
    }
   ],
   "source": [
    "fig = px.scatter(happy_df, x=\"Explained by: Social support\", y=\"Explained by: Healthy life expectancy\",\n",
    "                 color='Explained by: GDP per capita')\n",
    "fig.show()"
   ],
   "metadata": {
    "collapsed": false
   }
  },
  {
   "cell_type": "code",
   "execution_count": 366,
   "outputs": [
    {
     "data": {
      "text/plain": "DeltaGenerator(_root_container=0, _provided_cursor=None, _parent=None, _block_type=None, _form_data=None)"
     },
     "execution_count": 366,
     "metadata": {},
     "output_type": "execute_result"
    }
   ],
   "source": [
    "st.markdown('')"
   ],
   "metadata": {
    "collapsed": false
   }
  },
  {
   "cell_type": "code",
   "execution_count": 367,
   "outputs": [
    {
     "data": {
      "text/plain": "DeltaGenerator(_root_container=0, _provided_cursor=None, _parent=None, _block_type=None, _form_data=None)"
     },
     "execution_count": 367,
     "metadata": {},
     "output_type": "execute_result"
    }
   ],
   "source": [
    "st.markdown('At this stage, it would be possible to check a fairly large amount of data, but I believe that I have checked the most interesting of them, and therefore I suggest moving to the next stage.')"
   ],
   "metadata": {
    "collapsed": false
   }
  },
  {
   "cell_type": "code",
   "execution_count": 368,
   "outputs": [
    {
     "data": {
      "text/plain": "DeltaGenerator(_root_container=0, _provided_cursor=None, _parent=None, _block_type=None, _form_data=None)"
     },
     "execution_count": 368,
     "metadata": {},
     "output_type": "execute_result"
    }
   ],
   "source": [
    "st.subheader('Comparisons')\n",
    "st.markdown('At this stage, it is proposed to make a comparison of the happiest and the most unhappy state and see what gives the main contribution to their level of happiness.'\n",
    "            'Another idea is to compare all the criteria for assessing happiness in the country and try to find patterns or highlight some insights.')"
   ],
   "metadata": {
    "collapsed": false
   }
  },
  {
   "cell_type": "code",
   "execution_count": 369,
   "outputs": [],
   "source": [
    "columns = list(happy_df.columns)"
   ],
   "metadata": {
    "collapsed": false
   }
  },
  {
   "cell_type": "code",
   "execution_count": 370,
   "outputs": [
    {
     "data": {
      "application/vnd.plotly.v1+json": {
       "data": [
        {
         "domain": {
          "x": [
           0.0,
           1.0
          ],
          "y": [
           0.0,
           1.0
          ]
         },
         "hovertemplate": "Names=%{label}<br>Sources=%{value}<extra></extra>",
         "labels": [
          "GDP per capita",
          "Social support",
          "Healthy life expectancy",
          "Freedom to make life choices",
          "Generosity",
          "Perceptions of corruption"
         ],
         "legendgroup": "",
         "name": "",
         "showlegend": true,
         "values": [
          1.892,
          1.258,
          0.775,
          0.736,
          0.109,
          0.534
         ],
         "type": "pie"
        }
       ],
       "layout": {
        "template": {
         "data": {
          "candlestick": [
           {
            "decreasing": {
             "line": {
              "color": "#000033"
             }
            },
            "increasing": {
             "line": {
              "color": "#000032"
             }
            },
            "type": "candlestick"
           }
          ],
          "contourcarpet": [
           {
            "colorscale": [
             [
              0.0,
              "#000011"
             ],
             [
              0.1111111111111111,
              "#000012"
             ],
             [
              0.2222222222222222,
              "#000013"
             ],
             [
              0.3333333333333333,
              "#000014"
             ],
             [
              0.4444444444444444,
              "#000015"
             ],
             [
              0.5555555555555556,
              "#000016"
             ],
             [
              0.6666666666666666,
              "#000017"
             ],
             [
              0.7777777777777778,
              "#000018"
             ],
             [
              0.8888888888888888,
              "#000019"
             ],
             [
              1.0,
              "#000020"
             ]
            ],
            "type": "contourcarpet"
           }
          ],
          "contour": [
           {
            "colorscale": [
             [
              0.0,
              "#000011"
             ],
             [
              0.1111111111111111,
              "#000012"
             ],
             [
              0.2222222222222222,
              "#000013"
             ],
             [
              0.3333333333333333,
              "#000014"
             ],
             [
              0.4444444444444444,
              "#000015"
             ],
             [
              0.5555555555555556,
              "#000016"
             ],
             [
              0.6666666666666666,
              "#000017"
             ],
             [
              0.7777777777777778,
              "#000018"
             ],
             [
              0.8888888888888888,
              "#000019"
             ],
             [
              1.0,
              "#000020"
             ]
            ],
            "type": "contour"
           }
          ],
          "heatmap": [
           {
            "colorscale": [
             [
              0.0,
              "#000011"
             ],
             [
              0.1111111111111111,
              "#000012"
             ],
             [
              0.2222222222222222,
              "#000013"
             ],
             [
              0.3333333333333333,
              "#000014"
             ],
             [
              0.4444444444444444,
              "#000015"
             ],
             [
              0.5555555555555556,
              "#000016"
             ],
             [
              0.6666666666666666,
              "#000017"
             ],
             [
              0.7777777777777778,
              "#000018"
             ],
             [
              0.8888888888888888,
              "#000019"
             ],
             [
              1.0,
              "#000020"
             ]
            ],
            "type": "heatmap"
           }
          ],
          "histogram2d": [
           {
            "colorscale": [
             [
              0.0,
              "#000011"
             ],
             [
              0.1111111111111111,
              "#000012"
             ],
             [
              0.2222222222222222,
              "#000013"
             ],
             [
              0.3333333333333333,
              "#000014"
             ],
             [
              0.4444444444444444,
              "#000015"
             ],
             [
              0.5555555555555556,
              "#000016"
             ],
             [
              0.6666666666666666,
              "#000017"
             ],
             [
              0.7777777777777778,
              "#000018"
             ],
             [
              0.8888888888888888,
              "#000019"
             ],
             [
              1.0,
              "#000020"
             ]
            ],
            "type": "histogram2d"
           }
          ],
          "icicle": [
           {
            "textfont": {
             "color": "white"
            },
            "type": "icicle"
           }
          ],
          "sankey": [
           {
            "textfont": {
             "color": "#000036"
            },
            "type": "sankey"
           }
          ],
          "scatter": [
           {
            "marker": {
             "line": {
              "width": 0
             }
            },
            "type": "scatter"
           }
          ],
          "table": [
           {
            "cells": {
             "fill": {
              "color": "#000038"
             },
             "font": {
              "color": "#000037"
             },
             "line": {
              "color": "#000039"
             }
            },
            "header": {
             "fill": {
              "color": "#000040"
             },
             "font": {
              "color": "#000036"
             },
             "line": {
              "color": "#000039"
             }
            },
            "type": "table"
           }
          ],
          "waterfall": [
           {
            "connector": {
             "line": {
              "color": "#000036",
              "width": 2
             }
            },
            "decreasing": {
             "marker": {
              "color": "#000033"
             }
            },
            "increasing": {
             "marker": {
              "color": "#000032"
             }
            },
            "totals": {
             "marker": {
              "color": "#000034"
             }
            },
            "type": "waterfall"
           }
          ]
         },
         "layout": {
          "coloraxis": {
           "colorscale": [
            [
             0.0,
             "#000011"
            ],
            [
             0.1111111111111111,
             "#000012"
            ],
            [
             0.2222222222222222,
             "#000013"
            ],
            [
             0.3333333333333333,
             "#000014"
            ],
            [
             0.4444444444444444,
             "#000015"
            ],
            [
             0.5555555555555556,
             "#000016"
            ],
            [
             0.6666666666666666,
             "#000017"
            ],
            [
             0.7777777777777778,
             "#000018"
            ],
            [
             0.8888888888888888,
             "#000019"
            ],
            [
             1.0,
             "#000020"
            ]
           ]
          },
          "colorscale": {
           "diverging": [
            [
             0.0,
             "#000021"
            ],
            [
             0.1,
             "#000022"
            ],
            [
             0.2,
             "#000023"
            ],
            [
             0.3,
             "#000024"
            ],
            [
             0.4,
             "#000025"
            ],
            [
             0.5,
             "#000026"
            ],
            [
             0.6,
             "#000027"
            ],
            [
             0.7,
             "#000028"
            ],
            [
             0.8,
             "#000029"
            ],
            [
             0.9,
             "#000030"
            ],
            [
             1.0,
             "#000031"
            ]
           ],
           "sequential": [
            [
             0.0,
             "#000011"
            ],
            [
             0.1111111111111111,
             "#000012"
            ],
            [
             0.2222222222222222,
             "#000013"
            ],
            [
             0.3333333333333333,
             "#000014"
            ],
            [
             0.4444444444444444,
             "#000015"
            ],
            [
             0.5555555555555556,
             "#000016"
            ],
            [
             0.6666666666666666,
             "#000017"
            ],
            [
             0.7777777777777778,
             "#000018"
            ],
            [
             0.8888888888888888,
             "#000019"
            ],
            [
             1.0,
             "#000020"
            ]
           ],
           "sequentialminus": [
            [
             0.0,
             "#000011"
            ],
            [
             0.1111111111111111,
             "#000012"
            ],
            [
             0.2222222222222222,
             "#000013"
            ],
            [
             0.3333333333333333,
             "#000014"
            ],
            [
             0.4444444444444444,
             "#000015"
            ],
            [
             0.5555555555555556,
             "#000016"
            ],
            [
             0.6666666666666666,
             "#000017"
            ],
            [
             0.7777777777777778,
             "#000018"
            ],
            [
             0.8888888888888888,
             "#000019"
            ],
            [
             1.0,
             "#000020"
            ]
           ]
          },
          "colorway": [
           "#000001",
           "#000002",
           "#000003",
           "#000004",
           "#000005",
           "#000006",
           "#000007",
           "#000008",
           "#000009",
           "#000010"
          ]
         }
        },
        "legend": {
         "tracegroupgap": 0
        },
        "title": {
         "text": "Sources of Finland happiness"
        }
       },
       "config": {
        "plotlyServerURL": "https://plot.ly"
       }
      },
      "text/html": "<div>                            <div id=\"9429b741-0371-40e4-b52e-eb6e18b9f9f9\" class=\"plotly-graph-div\" style=\"height:525px; width:100%;\"></div>            <script type=\"text/javascript\">                require([\"plotly\"], function(Plotly) {                    window.PLOTLYENV=window.PLOTLYENV || {};                                    if (document.getElementById(\"9429b741-0371-40e4-b52e-eb6e18b9f9f9\")) {                    Plotly.newPlot(                        \"9429b741-0371-40e4-b52e-eb6e18b9f9f9\",                        [{\"domain\":{\"x\":[0.0,1.0],\"y\":[0.0,1.0]},\"hovertemplate\":\"Names=%{label}<br>Sources=%{value}<extra></extra>\",\"labels\":[\"GDP per capita\",\"Social support\",\"Healthy life expectancy\",\"Freedom to make life choices\",\"Generosity\",\"Perceptions of corruption\"],\"legendgroup\":\"\",\"name\":\"\",\"showlegend\":true,\"values\":[1.892,1.258,0.775,0.736,0.109,0.534],\"type\":\"pie\"}],                        {\"template\":{\"data\":{\"candlestick\":[{\"decreasing\":{\"line\":{\"color\":\"#000033\"}},\"increasing\":{\"line\":{\"color\":\"#000032\"}},\"type\":\"candlestick\"}],\"contourcarpet\":[{\"colorscale\":[[0.0,\"#000011\"],[0.1111111111111111,\"#000012\"],[0.2222222222222222,\"#000013\"],[0.3333333333333333,\"#000014\"],[0.4444444444444444,\"#000015\"],[0.5555555555555556,\"#000016\"],[0.6666666666666666,\"#000017\"],[0.7777777777777778,\"#000018\"],[0.8888888888888888,\"#000019\"],[1.0,\"#000020\"]],\"type\":\"contourcarpet\"}],\"contour\":[{\"colorscale\":[[0.0,\"#000011\"],[0.1111111111111111,\"#000012\"],[0.2222222222222222,\"#000013\"],[0.3333333333333333,\"#000014\"],[0.4444444444444444,\"#000015\"],[0.5555555555555556,\"#000016\"],[0.6666666666666666,\"#000017\"],[0.7777777777777778,\"#000018\"],[0.8888888888888888,\"#000019\"],[1.0,\"#000020\"]],\"type\":\"contour\"}],\"heatmap\":[{\"colorscale\":[[0.0,\"#000011\"],[0.1111111111111111,\"#000012\"],[0.2222222222222222,\"#000013\"],[0.3333333333333333,\"#000014\"],[0.4444444444444444,\"#000015\"],[0.5555555555555556,\"#000016\"],[0.6666666666666666,\"#000017\"],[0.7777777777777778,\"#000018\"],[0.8888888888888888,\"#000019\"],[1.0,\"#000020\"]],\"type\":\"heatmap\"}],\"histogram2d\":[{\"colorscale\":[[0.0,\"#000011\"],[0.1111111111111111,\"#000012\"],[0.2222222222222222,\"#000013\"],[0.3333333333333333,\"#000014\"],[0.4444444444444444,\"#000015\"],[0.5555555555555556,\"#000016\"],[0.6666666666666666,\"#000017\"],[0.7777777777777778,\"#000018\"],[0.8888888888888888,\"#000019\"],[1.0,\"#000020\"]],\"type\":\"histogram2d\"}],\"icicle\":[{\"textfont\":{\"color\":\"white\"},\"type\":\"icicle\"}],\"sankey\":[{\"textfont\":{\"color\":\"#000036\"},\"type\":\"sankey\"}],\"scatter\":[{\"marker\":{\"line\":{\"width\":0}},\"type\":\"scatter\"}],\"table\":[{\"cells\":{\"fill\":{\"color\":\"#000038\"},\"font\":{\"color\":\"#000037\"},\"line\":{\"color\":\"#000039\"}},\"header\":{\"fill\":{\"color\":\"#000040\"},\"font\":{\"color\":\"#000036\"},\"line\":{\"color\":\"#000039\"}},\"type\":\"table\"}],\"waterfall\":[{\"connector\":{\"line\":{\"color\":\"#000036\",\"width\":2}},\"decreasing\":{\"marker\":{\"color\":\"#000033\"}},\"increasing\":{\"marker\":{\"color\":\"#000032\"}},\"totals\":{\"marker\":{\"color\":\"#000034\"}},\"type\":\"waterfall\"}]},\"layout\":{\"coloraxis\":{\"colorscale\":[[0.0,\"#000011\"],[0.1111111111111111,\"#000012\"],[0.2222222222222222,\"#000013\"],[0.3333333333333333,\"#000014\"],[0.4444444444444444,\"#000015\"],[0.5555555555555556,\"#000016\"],[0.6666666666666666,\"#000017\"],[0.7777777777777778,\"#000018\"],[0.8888888888888888,\"#000019\"],[1.0,\"#000020\"]]},\"colorscale\":{\"diverging\":[[0.0,\"#000021\"],[0.1,\"#000022\"],[0.2,\"#000023\"],[0.3,\"#000024\"],[0.4,\"#000025\"],[0.5,\"#000026\"],[0.6,\"#000027\"],[0.7,\"#000028\"],[0.8,\"#000029\"],[0.9,\"#000030\"],[1.0,\"#000031\"]],\"sequential\":[[0.0,\"#000011\"],[0.1111111111111111,\"#000012\"],[0.2222222222222222,\"#000013\"],[0.3333333333333333,\"#000014\"],[0.4444444444444444,\"#000015\"],[0.5555555555555556,\"#000016\"],[0.6666666666666666,\"#000017\"],[0.7777777777777778,\"#000018\"],[0.8888888888888888,\"#000019\"],[1.0,\"#000020\"]],\"sequentialminus\":[[0.0,\"#000011\"],[0.1111111111111111,\"#000012\"],[0.2222222222222222,\"#000013\"],[0.3333333333333333,\"#000014\"],[0.4444444444444444,\"#000015\"],[0.5555555555555556,\"#000016\"],[0.6666666666666666,\"#000017\"],[0.7777777777777778,\"#000018\"],[0.8888888888888888,\"#000019\"],[1.0,\"#000020\"]]},\"colorway\":[\"#000001\",\"#000002\",\"#000003\",\"#000004\",\"#000005\",\"#000006\",\"#000007\",\"#000008\",\"#000009\",\"#000010\"]}},\"legend\":{\"tracegroupgap\":0},\"title\":{\"text\":\"Sources of Finland happiness\"}},                        {\"responsive\": true}                    ).then(function(){\n                            \nvar gd = document.getElementById('9429b741-0371-40e4-b52e-eb6e18b9f9f9');\nvar x = new MutationObserver(function (mutations, observer) {{\n        var display = window.getComputedStyle(gd).display;\n        if (!display || display === 'none') {{\n            console.log([gd, 'removed!']);\n            Plotly.purge(gd);\n            observer.disconnect();\n        }}\n}});\n\n// Listen for the removal of the full notebook cells\nvar notebookContainer = gd.closest('#notebook-container');\nif (notebookContainer) {{\n    x.observe(notebookContainer, {childList: true});\n}}\n\n// Listen for the clearing of the current output cell\nvar outputEl = gd.closest('.output');\nif (outputEl) {{\n    x.observe(outputEl, {childList: true});\n}}\n\n                        })                };                });            </script>        </div>"
     },
     "metadata": {},
     "output_type": "display_data"
    },
    {
     "data": {
      "application/vnd.plotly.v1+json": {
       "data": [
        {
         "domain": {
          "x": [
           0.0,
           1.0
          ],
          "y": [
           0.0,
           1.0
          ]
         },
         "hovertemplate": "Names=%{label}<br>Sources=%{value}<extra></extra>",
         "labels": [
          "GDP per capita",
          "Social support",
          "Healthy life expectancy",
          "Freedom to make life choices",
          "Generosity",
          "Perceptions of corruption"
         ],
         "legendgroup": "",
         "name": "",
         "showlegend": true,
         "values": [
          0.758,
          0.0,
          0.289,
          0.0,
          0.089,
          0.005
         ],
         "type": "pie"
        }
       ],
       "layout": {
        "template": {
         "data": {
          "candlestick": [
           {
            "decreasing": {
             "line": {
              "color": "#000033"
             }
            },
            "increasing": {
             "line": {
              "color": "#000032"
             }
            },
            "type": "candlestick"
           }
          ],
          "contourcarpet": [
           {
            "colorscale": [
             [
              0.0,
              "#000011"
             ],
             [
              0.1111111111111111,
              "#000012"
             ],
             [
              0.2222222222222222,
              "#000013"
             ],
             [
              0.3333333333333333,
              "#000014"
             ],
             [
              0.4444444444444444,
              "#000015"
             ],
             [
              0.5555555555555556,
              "#000016"
             ],
             [
              0.6666666666666666,
              "#000017"
             ],
             [
              0.7777777777777778,
              "#000018"
             ],
             [
              0.8888888888888888,
              "#000019"
             ],
             [
              1.0,
              "#000020"
             ]
            ],
            "type": "contourcarpet"
           }
          ],
          "contour": [
           {
            "colorscale": [
             [
              0.0,
              "#000011"
             ],
             [
              0.1111111111111111,
              "#000012"
             ],
             [
              0.2222222222222222,
              "#000013"
             ],
             [
              0.3333333333333333,
              "#000014"
             ],
             [
              0.4444444444444444,
              "#000015"
             ],
             [
              0.5555555555555556,
              "#000016"
             ],
             [
              0.6666666666666666,
              "#000017"
             ],
             [
              0.7777777777777778,
              "#000018"
             ],
             [
              0.8888888888888888,
              "#000019"
             ],
             [
              1.0,
              "#000020"
             ]
            ],
            "type": "contour"
           }
          ],
          "heatmap": [
           {
            "colorscale": [
             [
              0.0,
              "#000011"
             ],
             [
              0.1111111111111111,
              "#000012"
             ],
             [
              0.2222222222222222,
              "#000013"
             ],
             [
              0.3333333333333333,
              "#000014"
             ],
             [
              0.4444444444444444,
              "#000015"
             ],
             [
              0.5555555555555556,
              "#000016"
             ],
             [
              0.6666666666666666,
              "#000017"
             ],
             [
              0.7777777777777778,
              "#000018"
             ],
             [
              0.8888888888888888,
              "#000019"
             ],
             [
              1.0,
              "#000020"
             ]
            ],
            "type": "heatmap"
           }
          ],
          "histogram2d": [
           {
            "colorscale": [
             [
              0.0,
              "#000011"
             ],
             [
              0.1111111111111111,
              "#000012"
             ],
             [
              0.2222222222222222,
              "#000013"
             ],
             [
              0.3333333333333333,
              "#000014"
             ],
             [
              0.4444444444444444,
              "#000015"
             ],
             [
              0.5555555555555556,
              "#000016"
             ],
             [
              0.6666666666666666,
              "#000017"
             ],
             [
              0.7777777777777778,
              "#000018"
             ],
             [
              0.8888888888888888,
              "#000019"
             ],
             [
              1.0,
              "#000020"
             ]
            ],
            "type": "histogram2d"
           }
          ],
          "icicle": [
           {
            "textfont": {
             "color": "white"
            },
            "type": "icicle"
           }
          ],
          "sankey": [
           {
            "textfont": {
             "color": "#000036"
            },
            "type": "sankey"
           }
          ],
          "scatter": [
           {
            "marker": {
             "line": {
              "width": 0
             }
            },
            "type": "scatter"
           }
          ],
          "table": [
           {
            "cells": {
             "fill": {
              "color": "#000038"
             },
             "font": {
              "color": "#000037"
             },
             "line": {
              "color": "#000039"
             }
            },
            "header": {
             "fill": {
              "color": "#000040"
             },
             "font": {
              "color": "#000036"
             },
             "line": {
              "color": "#000039"
             }
            },
            "type": "table"
           }
          ],
          "waterfall": [
           {
            "connector": {
             "line": {
              "color": "#000036",
              "width": 2
             }
            },
            "decreasing": {
             "marker": {
              "color": "#000033"
             }
            },
            "increasing": {
             "marker": {
              "color": "#000032"
             }
            },
            "totals": {
             "marker": {
              "color": "#000034"
             }
            },
            "type": "waterfall"
           }
          ]
         },
         "layout": {
          "coloraxis": {
           "colorscale": [
            [
             0.0,
             "#000011"
            ],
            [
             0.1111111111111111,
             "#000012"
            ],
            [
             0.2222222222222222,
             "#000013"
            ],
            [
             0.3333333333333333,
             "#000014"
            ],
            [
             0.4444444444444444,
             "#000015"
            ],
            [
             0.5555555555555556,
             "#000016"
            ],
            [
             0.6666666666666666,
             "#000017"
            ],
            [
             0.7777777777777778,
             "#000018"
            ],
            [
             0.8888888888888888,
             "#000019"
            ],
            [
             1.0,
             "#000020"
            ]
           ]
          },
          "colorscale": {
           "diverging": [
            [
             0.0,
             "#000021"
            ],
            [
             0.1,
             "#000022"
            ],
            [
             0.2,
             "#000023"
            ],
            [
             0.3,
             "#000024"
            ],
            [
             0.4,
             "#000025"
            ],
            [
             0.5,
             "#000026"
            ],
            [
             0.6,
             "#000027"
            ],
            [
             0.7,
             "#000028"
            ],
            [
             0.8,
             "#000029"
            ],
            [
             0.9,
             "#000030"
            ],
            [
             1.0,
             "#000031"
            ]
           ],
           "sequential": [
            [
             0.0,
             "#000011"
            ],
            [
             0.1111111111111111,
             "#000012"
            ],
            [
             0.2222222222222222,
             "#000013"
            ],
            [
             0.3333333333333333,
             "#000014"
            ],
            [
             0.4444444444444444,
             "#000015"
            ],
            [
             0.5555555555555556,
             "#000016"
            ],
            [
             0.6666666666666666,
             "#000017"
            ],
            [
             0.7777777777777778,
             "#000018"
            ],
            [
             0.8888888888888888,
             "#000019"
            ],
            [
             1.0,
             "#000020"
            ]
           ],
           "sequentialminus": [
            [
             0.0,
             "#000011"
            ],
            [
             0.1111111111111111,
             "#000012"
            ],
            [
             0.2222222222222222,
             "#000013"
            ],
            [
             0.3333333333333333,
             "#000014"
            ],
            [
             0.4444444444444444,
             "#000015"
            ],
            [
             0.5555555555555556,
             "#000016"
            ],
            [
             0.6666666666666666,
             "#000017"
            ],
            [
             0.7777777777777778,
             "#000018"
            ],
            [
             0.8888888888888888,
             "#000019"
            ],
            [
             1.0,
             "#000020"
            ]
           ]
          },
          "colorway": [
           "#000001",
           "#000002",
           "#000003",
           "#000004",
           "#000005",
           "#000006",
           "#000007",
           "#000008",
           "#000009",
           "#000010"
          ]
         }
        },
        "legend": {
         "tracegroupgap": 0
        },
        "title": {
         "text": "Sources of Afghanistan happiness"
        }
       },
       "config": {
        "plotlyServerURL": "https://plot.ly"
       }
      },
      "text/html": "<div>                            <div id=\"af6f6fc9-a95d-4964-b412-4fe224128cf9\" class=\"plotly-graph-div\" style=\"height:525px; width:100%;\"></div>            <script type=\"text/javascript\">                require([\"plotly\"], function(Plotly) {                    window.PLOTLYENV=window.PLOTLYENV || {};                                    if (document.getElementById(\"af6f6fc9-a95d-4964-b412-4fe224128cf9\")) {                    Plotly.newPlot(                        \"af6f6fc9-a95d-4964-b412-4fe224128cf9\",                        [{\"domain\":{\"x\":[0.0,1.0],\"y\":[0.0,1.0]},\"hovertemplate\":\"Names=%{label}<br>Sources=%{value}<extra></extra>\",\"labels\":[\"GDP per capita\",\"Social support\",\"Healthy life expectancy\",\"Freedom to make life choices\",\"Generosity\",\"Perceptions of corruption\"],\"legendgroup\":\"\",\"name\":\"\",\"showlegend\":true,\"values\":[0.758,0.0,0.289,0.0,0.089,0.005],\"type\":\"pie\"}],                        {\"template\":{\"data\":{\"candlestick\":[{\"decreasing\":{\"line\":{\"color\":\"#000033\"}},\"increasing\":{\"line\":{\"color\":\"#000032\"}},\"type\":\"candlestick\"}],\"contourcarpet\":[{\"colorscale\":[[0.0,\"#000011\"],[0.1111111111111111,\"#000012\"],[0.2222222222222222,\"#000013\"],[0.3333333333333333,\"#000014\"],[0.4444444444444444,\"#000015\"],[0.5555555555555556,\"#000016\"],[0.6666666666666666,\"#000017\"],[0.7777777777777778,\"#000018\"],[0.8888888888888888,\"#000019\"],[1.0,\"#000020\"]],\"type\":\"contourcarpet\"}],\"contour\":[{\"colorscale\":[[0.0,\"#000011\"],[0.1111111111111111,\"#000012\"],[0.2222222222222222,\"#000013\"],[0.3333333333333333,\"#000014\"],[0.4444444444444444,\"#000015\"],[0.5555555555555556,\"#000016\"],[0.6666666666666666,\"#000017\"],[0.7777777777777778,\"#000018\"],[0.8888888888888888,\"#000019\"],[1.0,\"#000020\"]],\"type\":\"contour\"}],\"heatmap\":[{\"colorscale\":[[0.0,\"#000011\"],[0.1111111111111111,\"#000012\"],[0.2222222222222222,\"#000013\"],[0.3333333333333333,\"#000014\"],[0.4444444444444444,\"#000015\"],[0.5555555555555556,\"#000016\"],[0.6666666666666666,\"#000017\"],[0.7777777777777778,\"#000018\"],[0.8888888888888888,\"#000019\"],[1.0,\"#000020\"]],\"type\":\"heatmap\"}],\"histogram2d\":[{\"colorscale\":[[0.0,\"#000011\"],[0.1111111111111111,\"#000012\"],[0.2222222222222222,\"#000013\"],[0.3333333333333333,\"#000014\"],[0.4444444444444444,\"#000015\"],[0.5555555555555556,\"#000016\"],[0.6666666666666666,\"#000017\"],[0.7777777777777778,\"#000018\"],[0.8888888888888888,\"#000019\"],[1.0,\"#000020\"]],\"type\":\"histogram2d\"}],\"icicle\":[{\"textfont\":{\"color\":\"white\"},\"type\":\"icicle\"}],\"sankey\":[{\"textfont\":{\"color\":\"#000036\"},\"type\":\"sankey\"}],\"scatter\":[{\"marker\":{\"line\":{\"width\":0}},\"type\":\"scatter\"}],\"table\":[{\"cells\":{\"fill\":{\"color\":\"#000038\"},\"font\":{\"color\":\"#000037\"},\"line\":{\"color\":\"#000039\"}},\"header\":{\"fill\":{\"color\":\"#000040\"},\"font\":{\"color\":\"#000036\"},\"line\":{\"color\":\"#000039\"}},\"type\":\"table\"}],\"waterfall\":[{\"connector\":{\"line\":{\"color\":\"#000036\",\"width\":2}},\"decreasing\":{\"marker\":{\"color\":\"#000033\"}},\"increasing\":{\"marker\":{\"color\":\"#000032\"}},\"totals\":{\"marker\":{\"color\":\"#000034\"}},\"type\":\"waterfall\"}]},\"layout\":{\"coloraxis\":{\"colorscale\":[[0.0,\"#000011\"],[0.1111111111111111,\"#000012\"],[0.2222222222222222,\"#000013\"],[0.3333333333333333,\"#000014\"],[0.4444444444444444,\"#000015\"],[0.5555555555555556,\"#000016\"],[0.6666666666666666,\"#000017\"],[0.7777777777777778,\"#000018\"],[0.8888888888888888,\"#000019\"],[1.0,\"#000020\"]]},\"colorscale\":{\"diverging\":[[0.0,\"#000021\"],[0.1,\"#000022\"],[0.2,\"#000023\"],[0.3,\"#000024\"],[0.4,\"#000025\"],[0.5,\"#000026\"],[0.6,\"#000027\"],[0.7,\"#000028\"],[0.8,\"#000029\"],[0.9,\"#000030\"],[1.0,\"#000031\"]],\"sequential\":[[0.0,\"#000011\"],[0.1111111111111111,\"#000012\"],[0.2222222222222222,\"#000013\"],[0.3333333333333333,\"#000014\"],[0.4444444444444444,\"#000015\"],[0.5555555555555556,\"#000016\"],[0.6666666666666666,\"#000017\"],[0.7777777777777778,\"#000018\"],[0.8888888888888888,\"#000019\"],[1.0,\"#000020\"]],\"sequentialminus\":[[0.0,\"#000011\"],[0.1111111111111111,\"#000012\"],[0.2222222222222222,\"#000013\"],[0.3333333333333333,\"#000014\"],[0.4444444444444444,\"#000015\"],[0.5555555555555556,\"#000016\"],[0.6666666666666666,\"#000017\"],[0.7777777777777778,\"#000018\"],[0.8888888888888888,\"#000019\"],[1.0,\"#000020\"]]},\"colorway\":[\"#000001\",\"#000002\",\"#000003\",\"#000004\",\"#000005\",\"#000006\",\"#000007\",\"#000008\",\"#000009\",\"#000010\"]}},\"legend\":{\"tracegroupgap\":0},\"title\":{\"text\":\"Sources of Afghanistan happiness\"}},                        {\"responsive\": true}                    ).then(function(){\n                            \nvar gd = document.getElementById('af6f6fc9-a95d-4964-b412-4fe224128cf9');\nvar x = new MutationObserver(function (mutations, observer) {{\n        var display = window.getComputedStyle(gd).display;\n        if (!display || display === 'none') {{\n            console.log([gd, 'removed!']);\n            Plotly.purge(gd);\n            observer.disconnect();\n        }}\n}});\n\n// Listen for the removal of the full notebook cells\nvar notebookContainer = gd.closest('#notebook-container');\nif (notebookContainer) {{\n    x.observe(notebookContainer, {childList: true});\n}}\n\n// Listen for the clearing of the current output cell\nvar outputEl = gd.closest('.output');\nif (outputEl) {{\n    x.observe(outputEl, {childList: true});\n}}\n\n                        })                };                });            </script>        </div>"
     },
     "metadata": {},
     "output_type": "display_data"
    }
   ],
   "source": [
    "happy_df_finland = pd.DataFrame([[happy_df.iat[0, 6], columns[6][14:]], [happy_df.iat[0, 7], columns[7][14:]],\n",
    "                                 [happy_df.iat[0, 8], columns[8][14:]], [happy_df.iat[0, 9], columns[9][14:]],\n",
    "                                 [happy_df.iat[0, 10], columns[10][14:]], [happy_df.iat[0, 11], columns[11][14:]]],\n",
    "                                columns=['Sources', 'Names'])\n",
    "fig_fin = px.pie(happy_df_finland, values='Sources', names='Names', title='Sources of Finland happiness')\n",
    "\n",
    "happy_df_afghanistan = pd.DataFrame([[happy_df.iat[145, 6], columns[6][14:]], [happy_df.iat[145, 7], columns[7][14:]],\n",
    "                                     [happy_df.iat[145, 8], columns[8][14:]], [happy_df.iat[145, 9], columns[9][14:]],\n",
    "                                     [happy_df.iat[145, 10], columns[10][14:]], [happy_df.iat[145, 11], columns[11][14:]]],\n",
    "                                    columns=['Sources', 'Names'])\n",
    "fig_afg = px.pie(happy_df_afghanistan, values='Sources', names='Names', title='Sources of Afghanistan happiness')\n",
    "\n",
    "fig_fin.show()\n",
    "fig_afg.show()"
   ],
   "metadata": {
    "collapsed": false
   }
  },
  {
   "cell_type": "code",
   "execution_count": 371,
   "outputs": [
    {
     "data": {
      "text/plain": "DeltaGenerator(_root_container=0, _provided_cursor=None, _parent=None, _block_type=None, _form_data=None)"
     },
     "execution_count": 371,
     "metadata": {},
     "output_type": "execute_result"
    }
   ],
   "source": [
    "st.markdown('Despite the fact that, as expected, the differences in the criteria are significant, the surprising fact is that the inhabitants of the most unhappy country find only the level of GDP per capita and life expectancy happy. Moreover, the contribution of GDP per capita exceeds 50%.')"
   ],
   "metadata": {
    "collapsed": false
   }
  },
  {
   "cell_type": "code",
   "execution_count": 372,
   "outputs": [
    {
     "name": "stdout",
     "output_type": "stream",
     "text": [
      "\n"
     ]
    },
    {
     "data": {
      "text/plain": "<Figure size 1500x1500 with 42 Axes>",
      "image/png": "[encoded data removed]"
     },
     "metadata": {},
     "output_type": "display_data"
    }
   ],
   "source": [
    "sns.pairplot(happy_df[list(happy_df.columns)[6:]])\n",
    "print()"
   ],
   "metadata": {
    "collapsed": false
   }
  },
  {
   "cell_type": "code",
   "execution_count": 373,
   "outputs": [
    {
     "data": {
      "text/plain": "DeltaGenerator(_root_container=0, _provided_cursor=None, _parent=None, _block_type=None, _form_data=None)"
     },
     "execution_count": 373,
     "metadata": {},
     "output_type": "execute_result"
    }
   ],
   "source": [
    "st.markdown('Here you can really notice that there are some patterns. The most noticeable of all is that the values are somehow grouped inside the charts.'\n",
    "            'But the most interesting thing is that the behavior of social support and life expectancy are almost completely identical, and therefore it can be concluded that these two factors are somehow interrelated.'\n",
    "            'It is also interesting to find that as the level of corruption in the country decreases, other factors also become noticeably higher. However, it seems that there is a certain threshold at the level of 0.3, to which the change in the influence of corruption in general is hardly noticeable.'\n",
    "            'It is also interesting to note that generosity is more common at low values and with high corruption. And as corruption decreases, generosity units become more and more rare.'\n",
    "            ''\n",
    "            'At this stage, these are all interesting patterns and insights that I managed to find in this comparison, and therefore I suggest moving to the next stage.')"
   ],
   "metadata": {
    "collapsed": false
   }
  },
  {
   "cell_type": "code",
   "execution_count": 374,
   "outputs": [
    {
     "data": {
      "text/plain": "DeltaGenerator(_root_container=0, _provided_cursor=None, _parent=None, _block_type=None, _form_data=None)"
     },
     "execution_count": 374,
     "metadata": {},
     "output_type": "execute_result"
    }
   ],
   "source": [
    "st.subheader('Main hypothesis')\n",
    "st.markdown('My main hypothesis is to check how objectively residents assess their overall satisfaction with life in the country, taking into account the criteria. And is there any relationship between the objectivity or bias of the assessment and the spread of assessments as such.'\n",
    "            'To this end, I will calculate the residual and whisker difference, see how the residual changes as the overall level of happiness changes, and also look at the correlation between the residual and whisker difference.'\n",
    "            'And I will also check the same data on a mean level.')"
   ],
   "metadata": {
    "collapsed": false
   }
  },
  {
   "cell_type": "code",
   "execution_count": 375,
   "outputs": [],
   "source": [
    "residual = happy_df['Dystopia (1.83) + residual'] - 1.83\n",
    "residual.rename('Residual', inplace=True)\n",
    "happy_df = pd.concat([happy_df, residual], axis=1)\n",
    "\n",
    "whisker_difference = happy_df[\"Whisker-high\"] - happy_df['Whisker-low']\n",
    "whisker_difference.rename('Whisker difference', inplace=True)\n",
    "happy_df = pd.concat([happy_df, whisker_difference], axis=1)"
   ],
   "metadata": {
    "collapsed": false
   }
  },
  {
   "cell_type": "code",
   "execution_count": 376,
   "outputs": [
    {
     "name": "stdout",
     "output_type": "stream",
     "text": [
      "Mean value of happiness:  5.55\n",
      "Mean value of residual:  0.0\n",
      "Mean value of whisker difference:  0.24\n"
     ]
    },
    {
     "data": {
      "application/vnd.plotly.v1+json": {
       "data": [
        {
         "hovertemplate": "Happiness score=%{x}<br>Residual=%{y}<br>Whisker difference=%{marker.size}<extra></extra>",
         "legendgroup": "",
         "marker": {
          "color": "#000001",
          "size": [
           0.1299999999999999,
           0.14700000000000024,
           0.1869999999999994,
           0.14900000000000002,
           0.1120000000000001,
           0.19399999999999995,
           0.13899999999999935,
           0.15000000000000036,
           0.125,
           0.1589999999999998,
           0.1479999999999997,
           0.16299999999999937,
           0.16000000000000014,
           0.17499999999999982,
           0.1640000000000006,
           0.1770000000000005,
           0.1509999999999998,
           0.21799999999999997,
           0.16999999999999993,
           0.1429999999999998,
           0.2649999999999997,
           0.17600000000000016,
           0.20199999999999996,
           0.16800000000000015,
           0.22799999999999976,
           0.16699999999999982,
           0.1769999999999996,
           0.19600000000000062,
           0.16799999999999926,
           0.17600000000000016,
           0.20699999999999985,
           0.23199999999999932,
           0.17600000000000016,
           0.17900000000000027,
           0.1689999999999996,
           0.14900000000000002,
           0.3100000000000005,
           0.18200000000000038,
           0.3959999999999999,
           0.19200000000000017,
           0.1980000000000004,
           0.14900000000000002,
           0.23199999999999932,
           0.17999999999999972,
           0.29499999999999993,
           0.22100000000000009,
           0.20699999999999985,
           0.16500000000000004,
           0.2599999999999998,
           0.258,
           0.20199999999999996,
           0.22599999999999998,
           0.22999999999999954,
           0.16000000000000014,
           0.33399999999999963,
           0.2110000000000003,
           0.24599999999999955,
           0.1900000000000004,
           0.1719999999999997,
           0.20699999999999985,
           0.20599999999999952,
           0.18200000000000038,
           0.34699999999999953,
           0.1750000000000007,
           0.25700000000000056,
           0.24399999999999977,
           0.21799999999999997,
           0.1689999999999996,
           0.27200000000000024,
           0.26699999999999946,
           0.21799999999999997,
           0.13000000000000078,
           0.22200000000000042,
           0.2400000000000002,
           0.2679999999999998,
           0.23899999999999988,
           0.16999999999999993,
           0.20699999999999985,
           0.2839999999999998,
           0.133,
           0.15300000000000047,
           0.24100000000000055,
           0.18100000000000005,
           0.25099999999999945,
           0.22800000000000065,
           0.4249999999999998,
           0.20199999999999996,
           0.2990000000000004,
           0.20800000000000018,
           0.2450000000000001,
           0.242,
           0.18299999999999983,
           0.49099999999999966,
           0.2129999999999992,
           0.2450000000000001,
           0.1849999999999996,
           0.6129999999999995,
           0.21200000000000063,
           0.3200000000000003,
           0.24300000000000033,
           0.4499999999999993,
           0.2809999999999997,
           0.25,
           0.4870000000000001,
           0.21199999999999974,
           0.26500000000000057,
           0.31599999999999984,
           0.25100000000000033,
           0.27499999999999947,
           0.21499999999999986,
           0.25399999999999956,
           0.20099999999999962,
           0.2869999999999999,
           0.24899999999999967,
           0.26199999999999957,
           0.48099999999999987,
           0.28800000000000026,
           0.1979999999999995,
           0.28000000000000025,
           0.22599999999999998,
           0.2370000000000001,
           0.3650000000000002,
           0.26399999999999935,
           0.26700000000000035,
           0.4220000000000006,
           0.23399999999999999,
           0.25,
           0.38200000000000056,
           0.17899999999999938,
           0.504,
           0.2469999999999999,
           0.37400000000000055,
           0.4059999999999997,
           0.2469999999999999,
           0.3190000000000004,
           0.10199999999999987,
           0.28400000000000025,
           0.3809999999999998,
           0.28900000000000015,
           0.3160000000000003,
           0.4720000000000004,
           0.3919999999999999,
           0.38800000000000034,
           0.22999999999999998,
           0.18699999999999983,
           0.1299999999999999
          ],
          "sizemode": "area",
          "sizeref": 0.001532499999999999,
          "symbol": "circle"
         },
         "mode": "markers",
         "name": "",
         "orientation": "v",
         "showlegend": false,
         "x": [
          7.821,
          7.636,
          7.557,
          7.512,
          7.415,
          7.404,
          7.384,
          7.365,
          7.364,
          7.2,
          7.163,
          7.162,
          7.041,
          7.034,
          7.025,
          6.977,
          6.943,
          6.92,
          6.805,
          6.687,
          6.647,
          6.63,
          6.582,
          6.576,
          6.523,
          6.512,
          6.48,
          6.477,
          6.476,
          6.474,
          6.467,
          6.455,
          6.447,
          6.446,
          6.391,
          6.341,
          6.309,
          6.293,
          6.262,
          6.234,
          6.221,
          6.18,
          6.178,
          6.172,
          6.165,
          6.128,
          6.125,
          6.123,
          6.12,
          6.106,
          6.086,
          6.071,
          6.063,
          6.039,
          6.022,
          6.016,
          5.967,
          5.948,
          5.935,
          5.904,
          5.891,
          5.857,
          5.85,
          5.828,
          5.821,
          5.781,
          5.768,
          5.761,
          5.737,
          5.711,
          5.6,
          5.585,
          5.578,
          5.559,
          5.547,
          5.533,
          5.485,
          5.474,
          5.467,
          5.459,
          5.425,
          5.399,
          5.377,
          5.377,
          5.371,
          5.33,
          5.24,
          5.235,
          5.199,
          5.199,
          5.194,
          5.173,
          5.164,
          5.155,
          5.14,
          5.122,
          5.122,
          5.084,
          5.075,
          5.06,
          5.048,
          5.048,
          5.046,
          5.003,
          4.973,
          4.958,
          4.941,
          4.925,
          4.891,
          4.888,
          4.872,
          4.744,
          4.67,
          4.64,
          4.623,
          4.609,
          4.603,
          4.552,
          4.543,
          4.516,
          4.516,
          4.483,
          4.479,
          4.459,
          4.396,
          4.394,
          4.362,
          4.339,
          4.288,
          4.251,
          4.241,
          4.197,
          4.153,
          4.152,
          4.112,
          3.777,
          3.76,
          3.75,
          3.702,
          3.574,
          3.512,
          3.471,
          3.268,
          2.995,
          2.955,
          2.404
         ],
         "xaxis": "x",
         "y": [
          0.6879999999999997,
          0.3959999999999999,
          0.48999999999999977,
          0.32299999999999995,
          0.30699999999999994,
          0.21199999999999974,
          0.17300000000000004,
          0.09499999999999997,
          0.8039999999999998,
          0.12399999999999989,
          0.31800000000000006,
          0.18100000000000005,
          -0.08699999999999997,
          0.31199999999999983,
          0.09399999999999986,
          0.3839999999999999,
          0.137,
          0.43299999999999983,
          0.45299999999999985,
          0.06499999999999995,
          0.262,
          0.05499999999999994,
          0.516,
          -0.02100000000000013,
          0.2450000000000001,
          0.1719999999999997,
          -0.898,
          0.6160000000000001,
          0.06299999999999994,
          0.1439999999999999,
          0.3919999999999999,
          0.8009999999999997,
          -0.19900000000000007,
          0.32299999999999995,
          0.2639999999999998,
          -0.3880000000000001,
          0.2559999999999998,
          0.5310000000000001,
          0.9159999999999999,
          0.030000000000000027,
          0.21399999999999997,
          0.09299999999999997,
          0.20100000000000007,
          0.20999999999999996,
          0.5880000000000001,
          0.4089999999999998,
          0.053999999999999826,
          -0.137,
          0.6839999999999997,
          -0.20900000000000007,
          -0.018000000000000016,
          0.139,
          0.08299999999999996,
          -0.34299999999999997,
          0.7810000000000001,
          -0.139,
          0.06099999999999994,
          0.28900000000000015,
          -0.17400000000000015,
          0.45299999999999985,
          -0.22999999999999998,
          0.31199999999999983,
          0.3340000000000001,
          0.2570000000000001,
          -0.019000000000000128,
          0.14100000000000001,
          0.038999999999999924,
          0.16900000000000004,
          -0.07900000000000018,
          -0.359,
          0.27700000000000014,
          -0.31400000000000006,
          -0.27500000000000013,
          0.05999999999999983,
          -0.21100000000000008,
          0.03600000000000003,
          -0.09499999999999997,
          -0.6700000000000002,
          -0.752,
          -0.3360000000000001,
          -1.1880000000000002,
          -0.17600000000000016,
          0.06499999999999995,
          0.39400000000000013,
          -0.595,
          -0.28600000000000003,
          -0.53,
          0.8220000000000001,
          -0.369,
          -0.1120000000000001,
          -0.08800000000000008,
          -0.732,
          0.7010000000000001,
          0.137,
          -0.121,
          -0.08600000000000008,
          1.0139999999999998,
          -0.4990000000000001,
          0.8279999999999998,
          0.5749999999999997,
          0.8109999999999999,
          0.6389999999999998,
          0.589,
          0.8369999999999997,
          -0.2470000000000001,
          0.06199999999999983,
          0.06399999999999983,
          0.96,
          0.7079999999999997,
          -0.403,
          0.1419999999999999,
          -0.7710000000000001,
          0.4830000000000001,
          -0.42000000000000015,
          0.6280000000000001,
          0.47399999999999975,
          0.01200000000000001,
          -0.04600000000000004,
          -0.16900000000000004,
          -0.29000000000000004,
          0.10999999999999988,
          -0.46199999999999997,
          0.5430000000000001,
          -0.41600000000000015,
          -0.14200000000000013,
          -0.9530000000000001,
          -1.235,
          0.31800000000000006,
          -0.9740000000000001,
          0.589,
          -0.45500000000000007,
          -0.26900000000000013,
          -0.623,
          -1.1350000000000002,
          0.23099999999999987,
          -1.0350000000000001,
          -0.6950000000000001,
          -0.16900000000000004,
          -1.0950000000000002,
          -0.274,
          -0.518,
          -1.643,
          -1.294,
          -1.282,
          -1.614,
          -0.5670000000000002
         ],
         "yaxis": "y",
         "type": "scatter"
        }
       ],
       "layout": {
        "template": {
         "data": {
          "candlestick": [
           {
            "decreasing": {
             "line": {
              "color": "#000033"
             }
            },
            "increasing": {
             "line": {
              "color": "#000032"
             }
            },
            "type": "candlestick"
           }
          ],
          "contourcarpet": [
           {
            "colorscale": [
             [
              0.0,
              "#000011"
             ],
             [
              0.1111111111111111,
              "#000012"
             ],
             [
              0.2222222222222222,
              "#000013"
             ],
             [
              0.3333333333333333,
              "#000014"
             ],
             [
              0.4444444444444444,
              "#000015"
             ],
             [
              0.5555555555555556,
              "#000016"
             ],
             [
              0.6666666666666666,
              "#000017"
             ],
             [
              0.7777777777777778,
              "#000018"
             ],
             [
              0.8888888888888888,
              "#000019"
             ],
             [
              1.0,
              "#000020"
             ]
            ],
            "type": "contourcarpet"
           }
          ],
          "contour": [
           {
            "colorscale": [
             [
              0.0,
              "#000011"
             ],
             [
              0.1111111111111111,
              "#000012"
             ],
             [
              0.2222222222222222,
              "#000013"
             ],
             [
              0.3333333333333333,
              "#000014"
             ],
             [
              0.4444444444444444,
              "#000015"
             ],
             [
              0.5555555555555556,
              "#000016"
             ],
             [
              0.6666666666666666,
              "#000017"
             ],
             [
              0.7777777777777778,
              "#000018"
             ],
             [
              0.8888888888888888,
              "#000019"
             ],
             [
              1.0,
              "#000020"
             ]
            ],
            "type": "contour"
           }
          ],
          "heatmap": [
           {
            "colorscale": [
             [
              0.0,
              "#000011"
             ],
             [
              0.1111111111111111,
              "#000012"
             ],
             [
              0.2222222222222222,
              "#000013"
             ],
             [
              0.3333333333333333,
              "#000014"
             ],
             [
              0.4444444444444444,
              "#000015"
             ],
             [
              0.5555555555555556,
              "#000016"
             ],
             [
              0.6666666666666666,
              "#000017"
             ],
             [
              0.7777777777777778,
              "#000018"
             ],
             [
              0.8888888888888888,
              "#000019"
             ],
             [
              1.0,
              "#000020"
             ]
            ],
            "type": "heatmap"
           }
          ],
          "histogram2d": [
           {
            "colorscale": [
             [
              0.0,
              "#000011"
             ],
             [
              0.1111111111111111,
              "#000012"
             ],
             [
              0.2222222222222222,
              "#000013"
             ],
             [
              0.3333333333333333,
              "#000014"
             ],
             [
              0.4444444444444444,
              "#000015"
             ],
             [
              0.5555555555555556,
              "#000016"
             ],
             [
              0.6666666666666666,
              "#000017"
             ],
             [
              0.7777777777777778,
              "#000018"
             ],
             [
              0.8888888888888888,
              "#000019"
             ],
             [
              1.0,
              "#000020"
             ]
            ],
            "type": "histogram2d"
           }
          ],
          "icicle": [
           {
            "textfont": {
             "color": "white"
            },
            "type": "icicle"
           }
          ],
          "sankey": [
           {
            "textfont": {
             "color": "#000036"
            },
            "type": "sankey"
           }
          ],
          "scatter": [
           {
            "marker": {
             "line": {
              "width": 0
             }
            },
            "type": "scatter"
           }
          ],
          "table": [
           {
            "cells": {
             "fill": {
              "color": "#000038"
             },
             "font": {
              "color": "#000037"
             },
             "line": {
              "color": "#000039"
             }
            },
            "header": {
             "fill": {
              "color": "#000040"
             },
             "font": {
              "color": "#000036"
             },
             "line": {
              "color": "#000039"
             }
            },
            "type": "table"
           }
          ],
          "waterfall": [
           {
            "connector": {
             "line": {
              "color": "#000036",
              "width": 2
             }
            },
            "decreasing": {
             "marker": {
              "color": "#000033"
             }
            },
            "increasing": {
             "marker": {
              "color": "#000032"
             }
            },
            "totals": {
             "marker": {
              "color": "#000034"
             }
            },
            "type": "waterfall"
           }
          ]
         },
         "layout": {
          "coloraxis": {
           "colorscale": [
            [
             0.0,
             "#000011"
            ],
            [
             0.1111111111111111,
             "#000012"
            ],
            [
             0.2222222222222222,
             "#000013"
            ],
            [
             0.3333333333333333,
             "#000014"
            ],
            [
             0.4444444444444444,
             "#000015"
            ],
            [
             0.5555555555555556,
             "#000016"
            ],
            [
             0.6666666666666666,
             "#000017"
            ],
            [
             0.7777777777777778,
             "#000018"
            ],
            [
             0.8888888888888888,
             "#000019"
            ],
            [
             1.0,
             "#000020"
            ]
           ]
          },
          "colorscale": {
           "diverging": [
            [
             0.0,
             "#000021"
            ],
            [
             0.1,
             "#000022"
            ],
            [
             0.2,
             "#000023"
            ],
            [
             0.3,
             "#000024"
            ],
            [
             0.4,
             "#000025"
            ],
            [
             0.5,
             "#000026"
            ],
            [
             0.6,
             "#000027"
            ],
            [
             0.7,
             "#000028"
            ],
            [
             0.8,
             "#000029"
            ],
            [
             0.9,
             "#000030"
            ],
            [
             1.0,
             "#000031"
            ]
           ],
           "sequential": [
            [
             0.0,
             "#000011"
            ],
            [
             0.1111111111111111,
             "#000012"
            ],
            [
             0.2222222222222222,
             "#000013"
            ],
            [
             0.3333333333333333,
             "#000014"
            ],
            [
             0.4444444444444444,
             "#000015"
            ],
            [
             0.5555555555555556,
             "#000016"
            ],
            [
             0.6666666666666666,
             "#000017"
            ],
            [
             0.7777777777777778,
             "#000018"
            ],
            [
             0.8888888888888888,
             "#000019"
            ],
            [
             1.0,
             "#000020"
            ]
           ],
           "sequentialminus": [
            [
             0.0,
             "#000011"
            ],
            [
             0.1111111111111111,
             "#000012"
            ],
            [
             0.2222222222222222,
             "#000013"
            ],
            [
             0.3333333333333333,
             "#000014"
            ],
            [
             0.4444444444444444,
             "#000015"
            ],
            [
             0.5555555555555556,
             "#000016"
            ],
            [
             0.6666666666666666,
             "#000017"
            ],
            [
             0.7777777777777778,
             "#000018"
            ],
            [
             0.8888888888888888,
             "#000019"
            ],
            [
             1.0,
             "#000020"
            ]
           ]
          },
          "colorway": [
           "#000001",
           "#000002",
           "#000003",
           "#000004",
           "#000005",
           "#000006",
           "#000007",
           "#000008",
           "#000009",
           "#000010"
          ]
         }
        },
        "xaxis": {
         "anchor": "y",
         "domain": [
          0.0,
          1.0
         ],
         "title": {
          "text": "Happiness score"
         }
        },
        "yaxis": {
         "anchor": "x",
         "domain": [
          0.0,
          1.0
         ],
         "title": {
          "text": "Residual"
         }
        },
        "legend": {
         "tracegroupgap": 0,
         "itemsizing": "constant"
        },
        "margin": {
         "t": 60
        }
       },
       "config": {
        "plotlyServerURL": "https://plot.ly"
       }
      },
      "text/html": "<div>                            <div id=\"6b2d4e4c-65bd-4eb6-a8d2-99b8aa9c04a9\" class=\"plotly-graph-div\" style=\"height:525px; width:100%;\"></div>            <script type=\"text/javascript\">                require([\"plotly\"], function(Plotly) {                    window.PLOTLYENV=window.PLOTLYENV || {};                                    if (document.getElementById(\"6b2d4e4c-65bd-4eb6-a8d2-99b8aa9c04a9\")) {                    Plotly.newPlot(                        \"6b2d4e4c-65bd-4eb6-a8d2-99b8aa9c04a9\",                        [{\"hovertemplate\":\"Happiness score=%{x}<br>Residual=%{y}<br>Whisker difference=%{marker.size}<extra></extra>\",\"legendgroup\":\"\",\"marker\":{\"color\":\"#000001\",\"size\":[0.1299999999999999,0.14700000000000024,0.1869999999999994,0.14900000000000002,0.1120000000000001,0.19399999999999995,0.13899999999999935,0.15000000000000036,0.125,0.1589999999999998,0.1479999999999997,0.16299999999999937,0.16000000000000014,0.17499999999999982,0.1640000000000006,0.1770000000000005,0.1509999999999998,0.21799999999999997,0.16999999999999993,0.1429999999999998,0.2649999999999997,0.17600000000000016,0.20199999999999996,0.16800000000000015,0.22799999999999976,0.16699999999999982,0.1769999999999996,0.19600000000000062,0.16799999999999926,0.17600000000000016,0.20699999999999985,0.23199999999999932,0.17600000000000016,0.17900000000000027,0.1689999999999996,0.14900000000000002,0.3100000000000005,0.18200000000000038,0.3959999999999999,0.19200000000000017,0.1980000000000004,0.14900000000000002,0.23199999999999932,0.17999999999999972,0.29499999999999993,0.22100000000000009,0.20699999999999985,0.16500000000000004,0.2599999999999998,0.258,0.20199999999999996,0.22599999999999998,0.22999999999999954,0.16000000000000014,0.33399999999999963,0.2110000000000003,0.24599999999999955,0.1900000000000004,0.1719999999999997,0.20699999999999985,0.20599999999999952,0.18200000000000038,0.34699999999999953,0.1750000000000007,0.25700000000000056,0.24399999999999977,0.21799999999999997,0.1689999999999996,0.27200000000000024,0.26699999999999946,0.21799999999999997,0.13000000000000078,0.22200000000000042,0.2400000000000002,0.2679999999999998,0.23899999999999988,0.16999999999999993,0.20699999999999985,0.2839999999999998,0.133,0.15300000000000047,0.24100000000000055,0.18100000000000005,0.25099999999999945,0.22800000000000065,0.4249999999999998,0.20199999999999996,0.2990000000000004,0.20800000000000018,0.2450000000000001,0.242,0.18299999999999983,0.49099999999999966,0.2129999999999992,0.2450000000000001,0.1849999999999996,0.6129999999999995,0.21200000000000063,0.3200000000000003,0.24300000000000033,0.4499999999999993,0.2809999999999997,0.25,0.4870000000000001,0.21199999999999974,0.26500000000000057,0.31599999999999984,0.25100000000000033,0.27499999999999947,0.21499999999999986,0.25399999999999956,0.20099999999999962,0.2869999999999999,0.24899999999999967,0.26199999999999957,0.48099999999999987,0.28800000000000026,0.1979999999999995,0.28000000000000025,0.22599999999999998,0.2370000000000001,0.3650000000000002,0.26399999999999935,0.26700000000000035,0.4220000000000006,0.23399999999999999,0.25,0.38200000000000056,0.17899999999999938,0.504,0.2469999999999999,0.37400000000000055,0.4059999999999997,0.2469999999999999,0.3190000000000004,0.10199999999999987,0.28400000000000025,0.3809999999999998,0.28900000000000015,0.3160000000000003,0.4720000000000004,0.3919999999999999,0.38800000000000034,0.22999999999999998,0.18699999999999983,0.1299999999999999],\"sizemode\":\"area\",\"sizeref\":0.001532499999999999,\"symbol\":\"circle\"},\"mode\":\"markers\",\"name\":\"\",\"orientation\":\"v\",\"showlegend\":false,\"x\":[7.821,7.636,7.557,7.512,7.415,7.404,7.384,7.365,7.364,7.2,7.163,7.162,7.041,7.034,7.025,6.977,6.943,6.92,6.805,6.687,6.647,6.63,6.582,6.576,6.523,6.512,6.48,6.477,6.476,6.474,6.467,6.455,6.447,6.446,6.391,6.341,6.309,6.293,6.262,6.234,6.221,6.18,6.178,6.172,6.165,6.128,6.125,6.123,6.12,6.106,6.086,6.071,6.063,6.039,6.022,6.016,5.967,5.948,5.935,5.904,5.891,5.857,5.85,5.828,5.821,5.781,5.768,5.761,5.737,5.711,5.6,5.585,5.578,5.559,5.547,5.533,5.485,5.474,5.467,5.459,5.425,5.399,5.377,5.377,5.371,5.33,5.24,5.235,5.199,5.199,5.194,5.173,5.164,5.155,5.14,5.122,5.122,5.084,5.075,5.06,5.048,5.048,5.046,5.003,4.973,4.958,4.941,4.925,4.891,4.888,4.872,4.744,4.67,4.64,4.623,4.609,4.603,4.552,4.543,4.516,4.516,4.483,4.479,4.459,4.396,4.394,4.362,4.339,4.288,4.251,4.241,4.197,4.153,4.152,4.112,3.777,3.76,3.75,3.702,3.574,3.512,3.471,3.268,2.995,2.955,2.404],\"xaxis\":\"x\",\"y\":[0.6879999999999997,0.3959999999999999,0.48999999999999977,0.32299999999999995,0.30699999999999994,0.21199999999999974,0.17300000000000004,0.09499999999999997,0.8039999999999998,0.12399999999999989,0.31800000000000006,0.18100000000000005,-0.08699999999999997,0.31199999999999983,0.09399999999999986,0.3839999999999999,0.137,0.43299999999999983,0.45299999999999985,0.06499999999999995,0.262,0.05499999999999994,0.516,-0.02100000000000013,0.2450000000000001,0.1719999999999997,-0.898,0.6160000000000001,0.06299999999999994,0.1439999999999999,0.3919999999999999,0.8009999999999997,-0.19900000000000007,0.32299999999999995,0.2639999999999998,-0.3880000000000001,0.2559999999999998,0.5310000000000001,0.9159999999999999,0.030000000000000027,0.21399999999999997,0.09299999999999997,0.20100000000000007,0.20999999999999996,0.5880000000000001,0.4089999999999998,0.053999999999999826,-0.137,0.6839999999999997,-0.20900000000000007,-0.018000000000000016,0.139,0.08299999999999996,-0.34299999999999997,0.7810000000000001,-0.139,0.06099999999999994,0.28900000000000015,-0.17400000000000015,0.45299999999999985,-0.22999999999999998,0.31199999999999983,0.3340000000000001,0.2570000000000001,-0.019000000000000128,0.14100000000000001,0.038999999999999924,0.16900000000000004,-0.07900000000000018,-0.359,0.27700000000000014,-0.31400000000000006,-0.27500000000000013,0.05999999999999983,-0.21100000000000008,0.03600000000000003,-0.09499999999999997,-0.6700000000000002,-0.752,-0.3360000000000001,-1.1880000000000002,-0.17600000000000016,0.06499999999999995,0.39400000000000013,-0.595,-0.28600000000000003,-0.53,0.8220000000000001,-0.369,-0.1120000000000001,-0.08800000000000008,-0.732,0.7010000000000001,0.137,-0.121,-0.08600000000000008,1.0139999999999998,-0.4990000000000001,0.8279999999999998,0.5749999999999997,0.8109999999999999,0.6389999999999998,0.589,0.8369999999999997,-0.2470000000000001,0.06199999999999983,0.06399999999999983,0.96,0.7079999999999997,-0.403,0.1419999999999999,-0.7710000000000001,0.4830000000000001,-0.42000000000000015,0.6280000000000001,0.47399999999999975,0.01200000000000001,-0.04600000000000004,-0.16900000000000004,-0.29000000000000004,0.10999999999999988,-0.46199999999999997,0.5430000000000001,-0.41600000000000015,-0.14200000000000013,-0.9530000000000001,-1.235,0.31800000000000006,-0.9740000000000001,0.589,-0.45500000000000007,-0.26900000000000013,-0.623,-1.1350000000000002,0.23099999999999987,-1.0350000000000001,-0.6950000000000001,-0.16900000000000004,-1.0950000000000002,-0.274,-0.518,-1.643,-1.294,-1.282,-1.614,-0.5670000000000002],\"yaxis\":\"y\",\"type\":\"scatter\"}],                        {\"template\":{\"data\":{\"candlestick\":[{\"decreasing\":{\"line\":{\"color\":\"#000033\"}},\"increasing\":{\"line\":{\"color\":\"#000032\"}},\"type\":\"candlestick\"}],\"contourcarpet\":[{\"colorscale\":[[0.0,\"#000011\"],[0.1111111111111111,\"#000012\"],[0.2222222222222222,\"#000013\"],[0.3333333333333333,\"#000014\"],[0.4444444444444444,\"#000015\"],[0.5555555555555556,\"#000016\"],[0.6666666666666666,\"#000017\"],[0.7777777777777778,\"#000018\"],[0.8888888888888888,\"#000019\"],[1.0,\"#000020\"]],\"type\":\"contourcarpet\"}],\"contour\":[{\"colorscale\":[[0.0,\"#000011\"],[0.1111111111111111,\"#000012\"],[0.2222222222222222,\"#000013\"],[0.3333333333333333,\"#000014\"],[0.4444444444444444,\"#000015\"],[0.5555555555555556,\"#000016\"],[0.6666666666666666,\"#000017\"],[0.7777777777777778,\"#000018\"],[0.8888888888888888,\"#000019\"],[1.0,\"#000020\"]],\"type\":\"contour\"}],\"heatmap\":[{\"colorscale\":[[0.0,\"#000011\"],[0.1111111111111111,\"#000012\"],[0.2222222222222222,\"#000013\"],[0.3333333333333333,\"#000014\"],[0.4444444444444444,\"#000015\"],[0.5555555555555556,\"#000016\"],[0.6666666666666666,\"#000017\"],[0.7777777777777778,\"#000018\"],[0.8888888888888888,\"#000019\"],[1.0,\"#000020\"]],\"type\":\"heatmap\"}],\"histogram2d\":[{\"colorscale\":[[0.0,\"#000011\"],[0.1111111111111111,\"#000012\"],[0.2222222222222222,\"#000013\"],[0.3333333333333333,\"#000014\"],[0.4444444444444444,\"#000015\"],[0.5555555555555556,\"#000016\"],[0.6666666666666666,\"#000017\"],[0.7777777777777778,\"#000018\"],[0.8888888888888888,\"#000019\"],[1.0,\"#000020\"]],\"type\":\"histogram2d\"}],\"icicle\":[{\"textfont\":{\"color\":\"white\"},\"type\":\"icicle\"}],\"sankey\":[{\"textfont\":{\"color\":\"#000036\"},\"type\":\"sankey\"}],\"scatter\":[{\"marker\":{\"line\":{\"width\":0}},\"type\":\"scatter\"}],\"table\":[{\"cells\":{\"fill\":{\"color\":\"#000038\"},\"font\":{\"color\":\"#000037\"},\"line\":{\"color\":\"#000039\"}},\"header\":{\"fill\":{\"color\":\"#000040\"},\"font\":{\"color\":\"#000036\"},\"line\":{\"color\":\"#000039\"}},\"type\":\"table\"}],\"waterfall\":[{\"connector\":{\"line\":{\"color\":\"#000036\",\"width\":2}},\"decreasing\":{\"marker\":{\"color\":\"#000033\"}},\"increasing\":{\"marker\":{\"color\":\"#000032\"}},\"totals\":{\"marker\":{\"color\":\"#000034\"}},\"type\":\"waterfall\"}]},\"layout\":{\"coloraxis\":{\"colorscale\":[[0.0,\"#000011\"],[0.1111111111111111,\"#000012\"],[0.2222222222222222,\"#000013\"],[0.3333333333333333,\"#000014\"],[0.4444444444444444,\"#000015\"],[0.5555555555555556,\"#000016\"],[0.6666666666666666,\"#000017\"],[0.7777777777777778,\"#000018\"],[0.8888888888888888,\"#000019\"],[1.0,\"#000020\"]]},\"colorscale\":{\"diverging\":[[0.0,\"#000021\"],[0.1,\"#000022\"],[0.2,\"#000023\"],[0.3,\"#000024\"],[0.4,\"#000025\"],[0.5,\"#000026\"],[0.6,\"#000027\"],[0.7,\"#000028\"],[0.8,\"#000029\"],[0.9,\"#000030\"],[1.0,\"#000031\"]],\"sequential\":[[0.0,\"#000011\"],[0.1111111111111111,\"#000012\"],[0.2222222222222222,\"#000013\"],[0.3333333333333333,\"#000014\"],[0.4444444444444444,\"#000015\"],[0.5555555555555556,\"#000016\"],[0.6666666666666666,\"#000017\"],[0.7777777777777778,\"#000018\"],[0.8888888888888888,\"#000019\"],[1.0,\"#000020\"]],\"sequentialminus\":[[0.0,\"#000011\"],[0.1111111111111111,\"#000012\"],[0.2222222222222222,\"#000013\"],[0.3333333333333333,\"#000014\"],[0.4444444444444444,\"#000015\"],[0.5555555555555556,\"#000016\"],[0.6666666666666666,\"#000017\"],[0.7777777777777778,\"#000018\"],[0.8888888888888888,\"#000019\"],[1.0,\"#000020\"]]},\"colorway\":[\"#000001\",\"#000002\",\"#000003\",\"#000004\",\"#000005\",\"#000006\",\"#000007\",\"#000008\",\"#000009\",\"#000010\"]}},\"xaxis\":{\"anchor\":\"y\",\"domain\":[0.0,1.0],\"title\":{\"text\":\"Happiness score\"}},\"yaxis\":{\"anchor\":\"x\",\"domain\":[0.0,1.0],\"title\":{\"text\":\"Residual\"}},\"legend\":{\"tracegroupgap\":0,\"itemsizing\":\"constant\"},\"margin\":{\"t\":60}},                        {\"responsive\": true}                    ).then(function(){\n                            \nvar gd = document.getElementById('6b2d4e4c-65bd-4eb6-a8d2-99b8aa9c04a9');\nvar x = new MutationObserver(function (mutations, observer) {{\n        var display = window.getComputedStyle(gd).display;\n        if (!display || display === 'none') {{\n            console.log([gd, 'removed!']);\n            Plotly.purge(gd);\n            observer.disconnect();\n        }}\n}});\n\n// Listen for the removal of the full notebook cells\nvar notebookContainer = gd.closest('#notebook-container');\nif (notebookContainer) {{\n    x.observe(notebookContainer, {childList: true});\n}}\n\n// Listen for the clearing of the current output cell\nvar outputEl = gd.closest('.output');\nif (outputEl) {{\n    x.observe(outputEl, {childList: true});\n}}\n\n                        })                };                });            </script>        </div>"
     },
     "metadata": {},
     "output_type": "display_data"
    }
   ],
   "source": [
    "print(\"Mean value of happiness: \", round(happy_df['Happiness score'].mean(), 2))\n",
    "print(\"Mean value of residual: \", round(happy_df['Residual'].mean(), 2))\n",
    "print(\"Mean value of whisker difference: \", round(happy_df['Whisker difference'].mean(), 2))\n",
    "\n",
    "fig = px.scatter(happy_df, x=\"Happiness score\", y=\"Residual\", size='Whisker difference')\n",
    "fig.show()"
   ],
   "metadata": {
    "collapsed": false
   }
  },
  {
   "cell_type": "code",
   "execution_count": 377,
   "outputs": [
    {
     "data": {
      "text/plain": "DeltaGenerator(_root_container=0, _provided_cursor=None, _parent=None, _block_type=None, _form_data=None)"
     },
     "execution_count": 377,
     "metadata": {},
     "output_type": "execute_result"
    }
   ],
   "source": [
    "st.markdown('Based on all the information I have received, I can draw several conclusions:'\n",
    "            '1. Residents of less happy states tend to exaggerate the final quality of life in their country. While residents of happy countries are more critical of their state.'\n",
    "            '2. I could not find a connection between the residual and whisker difference, but I managed to find that the lower the overall level of happiness in the state, the more likely it is that residents will strongly differ in opinions.'\n",
    "            '3.It is interesting to find that the mean value of the residual is zero. I believe this means that people are equally prone to exaggerate and underestimate the living conditions around them.'\n",
    "            ''\n",
    "            'And this brings me to the end of my project work.')"
   ],
   "metadata": {
    "collapsed": false
   }
  }
 ],
 "metadata": {
  "kernelspec": {
   "display_name": "Python 3 (ipykernel)",
   "language": "python",
   "name": "python3"
  },
  "language_info": {
   "codemirror_mode": {
    "name": "ipython",
    "version": 3
   },
   "file_extension": ".py",
   "mimetype": "text/x-python",
   "name": "python",
   "nbconvert_exporter": "python",
   "pygments_lexer": "ipython3",
   "version": "3.10.7"
  }
 },
 "nbformat": 4,
 "nbformat_minor": 5
}
